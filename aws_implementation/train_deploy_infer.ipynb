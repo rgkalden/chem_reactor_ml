{
 "cells": [
  {
   "cell_type": "code",
   "execution_count": 1,
   "metadata": {},
   "outputs": [],
   "source": [
    "import numpy as np\n",
    "import pandas as pd\n",
    "\n",
    "import boto3\n",
    "import sagemaker\n",
    "\n",
    "from sagemaker.sklearn.estimator import SKLearn\n",
    "from time import strftime, gmtime"
   ]
  },
  {
   "cell_type": "code",
   "execution_count": 2,
   "metadata": {},
   "outputs": [],
   "source": [
    "boto_session = boto3.Session()\n",
    "boto_sagemaker = boto_session.client(\"sagemaker\")\n",
    "role = sagemaker.get_execution_role()\n",
    "\n",
    "sagemaker_session = sagemaker.Session()"
   ]
  },
  {
   "cell_type": "markdown",
   "metadata": {},
   "source": [
    "## Create Dataset and Load into S3"
   ]
  },
  {
   "cell_type": "code",
   "execution_count": 3,
   "metadata": {},
   "outputs": [],
   "source": [
    "data = pd.read_csv('data/reactor_performance_data.csv')"
   ]
  },
  {
   "cell_type": "code",
   "execution_count": 4,
   "metadata": {},
   "outputs": [],
   "source": [
    "# Based on data_preparation.py\n",
    "\n",
    "from sklearn.model_selection import train_test_split\n",
    "from sklearn.preprocessing import StandardScaler\n",
    "\n",
    "def data_preparation(dataframe, feature_list, target_variable,\n",
    "                     test_size=0.4, random_state=42, \n",
    "                     print_shapes=False, standardize=False):\n",
    "    \n",
    "    X = dataframe[feature_list]\n",
    "    y = dataframe[target_variable]\n",
    "\n",
    "    X_train, X_test, y_train, y_test = train_test_split(X, y, test_size=test_size, random_state=random_state)\n",
    "\n",
    "    if print_shapes == True:\n",
    "        print('Data Shapes:')\n",
    "        print('X_train ', X_train.shape)\n",
    "        print('y_train ', y_train.shape)\n",
    "        print('X_test ', X_test.shape)\n",
    "        print('y_test ', y_test.shape)   \n",
    "\n",
    "    if standardize == False:\n",
    "        return X_train, X_test, y_train, y_test\n",
    "    elif standardize == True:\n",
    "        scaler = StandardScaler()\n",
    "        scaler.fit(X_train)\n",
    "        X_train = scaler.transform(X_train)\n",
    "        X_test = scaler.transform(X_test)\n",
    "        return X_train, X_test, y_train, y_test\n",
    "    \n",
    "feature_list = ['Fao', 'Fbo', 'P', 'To', 'Cto', 'm', 'Ta']\n",
    "target_variable = 'Yc'\n",
    "\n",
    "X_train, X_test, y_train, y_test = data_preparation(data, feature_list, target_variable,\n",
    "                                                     test_size=0.4, random_state=42, \n",
    "                                                     print_shapes=False, standardize=False)"
   ]
  },
  {
   "cell_type": "code",
   "execution_count": 5,
   "metadata": {},
   "outputs": [],
   "source": [
    "# Concat X and y to form train and test set files\n",
    "train_data = pd.concat([X_train, y_train], axis=1)\n",
    "train_data.to_csv('data/train_data.csv', index=False)\n",
    "\n",
    "test_data = pd.concat([X_test, y_test], axis=1)\n",
    "test_data.to_csv('data/test_data.csv', index=False)"
   ]
  },
  {
   "cell_type": "code",
   "execution_count": 6,
   "metadata": {},
   "outputs": [],
   "source": [
    "account_id = boto_session.client(\"sts\", region_name=boto_session.region_name).get_caller_identity()[\"Account\"]\n",
    "bucket = \"sagemaker-studio-{}-{}\".format(boto_session.region_name, account_id)\n",
    "prefix = \"chemreactorml\""
   ]
  },
  {
   "cell_type": "code",
   "execution_count": 7,
   "metadata": {},
   "outputs": [
    {
     "name": "stdout",
     "output_type": "stream",
     "text": [
      "Looks like you already have a bucket of this name. That's good. Uploading the data files...\n",
      "s3://sagemaker-studio-us-east-1-579156935154/chemreactorml/train/train_data.csv\n",
      "s3://sagemaker-studio-us-east-1-579156935154/chemreactorml/test/test_data.csv\n"
     ]
    }
   ],
   "source": [
    "# Write data to S3\n",
    "try:\n",
    "    if sess.region_name == \"us-east-1\":\n",
    "        sess.client(\"s3\").create_bucket(Bucket=bucket)\n",
    "    else:\n",
    "        sess.client(\"s3\").create_bucket(\n",
    "            Bucket=bucket, CreateBucketConfiguration={\"LocationConstraint\": sess.region_name}\n",
    "        )\n",
    "except Exception as e:\n",
    "    print(\n",
    "        \"Looks like you already have a bucket of this name. That's good. Uploading the data files...\"\n",
    "    )\n",
    "\n",
    "# Return the URLs of the uploaded file, so they can be reviewed or used elsewhere\n",
    "s3url = sagemaker.s3.S3Uploader.upload(\"data/train_data.csv\", \"s3://{}/{}/{}\".format(bucket, prefix, \"train\"))\n",
    "print(s3url)\n",
    "s3url = sagemaker.s3.S3Uploader.upload(\"data/test_data.csv\", \"s3://{}/{}/{}\".format(bucket, prefix, \"test\"))\n",
    "print(s3url)"
   ]
  },
  {
   "cell_type": "code",
   "execution_count": 8,
   "metadata": {},
   "outputs": [],
   "source": [
    "# Create train and test variables referencing S3 bucket files for use in model training\n",
    "s3_input_train = sagemaker.TrainingInput(s3_data=\"s3://{}/{}/train\".format(bucket, prefix), content_type=\"csv\")\n",
    "\n",
    "s3_input_validation = sagemaker.TrainingInput(s3_data=\"s3://{}/{}/test/\".format(bucket, prefix), content_type=\"csv\")"
   ]
  },
  {
   "cell_type": "markdown",
   "metadata": {},
   "source": [
    "## Model Training"
   ]
  },
  {
   "cell_type": "code",
   "execution_count": 9,
   "metadata": {},
   "outputs": [],
   "source": [
    "script_path = 'train.py'"
   ]
  },
  {
   "cell_type": "code",
   "execution_count": 10,
   "metadata": {},
   "outputs": [],
   "source": [
    "sklearn = SKLearn(entry_point=script_path,\n",
    "                  instance_type=\"ml.c5.xlarge\",\n",
    "                  role=role,\n",
    "                  framework_version='0.23-1',\n",
    "                  py_version='py3',\n",
    "                  sagemaker_session=sagemaker_session,\n",
    "                  hyperparameters={\"n-estimators\": 100})"
   ]
  },
  {
   "cell_type": "code",
   "execution_count": 11,
   "metadata": {},
   "outputs": [
    {
     "name": "stdout",
     "output_type": "stream",
     "text": [
      "2022-04-16 22:01:25 Starting - Starting the training job...\n",
      "2022-04-16 22:01:42 Starting - Preparing the instances for trainingProfilerReport-1650146485: InProgress\n",
      "......\n",
      "2022-04-16 22:02:47 Downloading - Downloading input data...\n",
      "2022-04-16 22:03:23 Training - Downloading the training image...\n",
      "2022-04-16 22:03:54 Uploading - Uploading generated training model\u001b[34m2022-04-16 22:03:40,815 sagemaker-containers INFO     Imported framework sagemaker_sklearn_container.training\u001b[0m\n",
      "\u001b[34m2022-04-16 22:03:40,818 sagemaker-training-toolkit INFO     No GPUs detected (normal if no gpus installed)\u001b[0m\n",
      "\u001b[34m2022-04-16 22:03:40,827 sagemaker_sklearn_container.training INFO     Invoking user training script.\u001b[0m\n",
      "\u001b[34m2022-04-16 22:03:41,100 sagemaker-training-toolkit INFO     No GPUs detected (normal if no gpus installed)\u001b[0m\n",
      "\u001b[34m2022-04-16 22:03:41,113 sagemaker-training-toolkit INFO     No GPUs detected (normal if no gpus installed)\u001b[0m\n",
      "\u001b[34m2022-04-16 22:03:41,126 sagemaker-training-toolkit INFO     No GPUs detected (normal if no gpus installed)\u001b[0m\n",
      "\u001b[34m2022-04-16 22:03:41,134 sagemaker-training-toolkit INFO     Invoking user script\u001b[0m\n",
      "\u001b[34mTraining Env:\u001b[0m\n",
      "\u001b[34m{\n",
      "    \"additional_framework_parameters\": {},\n",
      "    \"channel_input_dirs\": {\n",
      "        \"test\": \"/opt/ml/input/data/test\",\n",
      "        \"train\": \"/opt/ml/input/data/train\"\n",
      "    },\n",
      "    \"current_host\": \"algo-1\",\n",
      "    \"framework_module\": \"sagemaker_sklearn_container.training:main\",\n",
      "    \"hosts\": [\n",
      "        \"algo-1\"\n",
      "    ],\n",
      "    \"hyperparameters\": {\n",
      "        \"n-estimators\": 100\n",
      "    },\n",
      "    \"input_config_dir\": \"/opt/ml/input/config\",\n",
      "    \"input_data_config\": {\n",
      "        \"test\": {\n",
      "            \"ContentType\": \"csv\",\n",
      "            \"TrainingInputMode\": \"File\",\n",
      "            \"S3DistributionType\": \"FullyReplicated\",\n",
      "            \"RecordWrapperType\": \"None\"\n",
      "        },\n",
      "        \"train\": {\n",
      "            \"ContentType\": \"csv\",\n",
      "            \"TrainingInputMode\": \"File\",\n",
      "            \"S3DistributionType\": \"FullyReplicated\",\n",
      "            \"RecordWrapperType\": \"None\"\n",
      "        }\n",
      "    },\n",
      "    \"input_dir\": \"/opt/ml/input\",\n",
      "    \"is_master\": true,\n",
      "    \"job_name\": \"sagemaker-scikit-learn-2022-04-16-22-01-25-338\",\n",
      "    \"log_level\": 20,\n",
      "    \"master_hostname\": \"algo-1\",\n",
      "    \"model_dir\": \"/opt/ml/model\",\n",
      "    \"module_dir\": \"s3://sagemaker-us-east-1-579156935154/sagemaker-scikit-learn-2022-04-16-22-01-25-338/source/sourcedir.tar.gz\",\n",
      "    \"module_name\": \"train\",\n",
      "    \"network_interface_name\": \"eth0\",\n",
      "    \"num_cpus\": 4,\n",
      "    \"num_gpus\": 0,\n",
      "    \"output_data_dir\": \"/opt/ml/output/data\",\n",
      "    \"output_dir\": \"/opt/ml/output\",\n",
      "    \"output_intermediate_dir\": \"/opt/ml/output/intermediate\",\n",
      "    \"resource_config\": {\n",
      "        \"current_host\": \"algo-1\",\n",
      "        \"current_instance_type\": \"ml.c5.xlarge\",\n",
      "        \"current_group_name\": \"homogeneousCluster\",\n",
      "        \"hosts\": [\n",
      "            \"algo-1\"\n",
      "        ],\n",
      "        \"instance_groups\": [\n",
      "            {\n",
      "                \"instance_group_name\": \"homogeneousCluster\",\n",
      "                \"instance_type\": \"ml.c5.xlarge\",\n",
      "                \"hosts\": [\n",
      "                    \"algo-1\"\n",
      "                ]\n",
      "            }\n",
      "        ],\n",
      "        \"network_interface_name\": \"eth0\"\n",
      "    },\n",
      "    \"user_entry_point\": \"train.py\"\u001b[0m\n",
      "\u001b[34m}\u001b[0m\n",
      "\u001b[34mEnvironment variables:\u001b[0m\n",
      "\u001b[34mSM_HOSTS=[\"algo-1\"]\u001b[0m\n",
      "\u001b[34mSM_NETWORK_INTERFACE_NAME=eth0\u001b[0m\n",
      "\u001b[34mSM_HPS={\"n-estimators\":100}\u001b[0m\n",
      "\u001b[34mSM_USER_ENTRY_POINT=train.py\u001b[0m\n",
      "\u001b[34mSM_FRAMEWORK_PARAMS={}\u001b[0m\n",
      "\u001b[34mSM_RESOURCE_CONFIG={\"current_group_name\":\"homogeneousCluster\",\"current_host\":\"algo-1\",\"current_instance_type\":\"ml.c5.xlarge\",\"hosts\":[\"algo-1\"],\"instance_groups\":[{\"hosts\":[\"algo-1\"],\"instance_group_name\":\"homogeneousCluster\",\"instance_type\":\"ml.c5.xlarge\"}],\"network_interface_name\":\"eth0\"}\u001b[0m\n",
      "\u001b[34mSM_INPUT_DATA_CONFIG={\"test\":{\"ContentType\":\"csv\",\"RecordWrapperType\":\"None\",\"S3DistributionType\":\"FullyReplicated\",\"TrainingInputMode\":\"File\"},\"train\":{\"ContentType\":\"csv\",\"RecordWrapperType\":\"None\",\"S3DistributionType\":\"FullyReplicated\",\"TrainingInputMode\":\"File\"}}\u001b[0m\n",
      "\u001b[34mSM_OUTPUT_DATA_DIR=/opt/ml/output/data\u001b[0m\n",
      "\u001b[34mSM_CHANNELS=[\"test\",\"train\"]\u001b[0m\n",
      "\u001b[34mSM_CURRENT_HOST=algo-1\u001b[0m\n",
      "\u001b[34mSM_MODULE_NAME=train\u001b[0m\n",
      "\u001b[34mSM_LOG_LEVEL=20\u001b[0m\n",
      "\u001b[34mSM_FRAMEWORK_MODULE=sagemaker_sklearn_container.training:main\u001b[0m\n",
      "\u001b[34mSM_INPUT_DIR=/opt/ml/input\u001b[0m\n",
      "\u001b[34mSM_INPUT_CONFIG_DIR=/opt/ml/input/config\u001b[0m\n",
      "\u001b[34mSM_OUTPUT_DIR=/opt/ml/output\u001b[0m\n",
      "\u001b[34mSM_NUM_CPUS=4\u001b[0m\n",
      "\u001b[34mSM_NUM_GPUS=0\u001b[0m\n",
      "\u001b[34mSM_MODEL_DIR=/opt/ml/model\u001b[0m\n",
      "\u001b[34mSM_MODULE_DIR=s3://sagemaker-us-east-1-579156935154/sagemaker-scikit-learn-2022-04-16-22-01-25-338/source/sourcedir.tar.gz\u001b[0m\n",
      "\u001b[34mSM_TRAINING_ENV={\"additional_framework_parameters\":{},\"channel_input_dirs\":{\"test\":\"/opt/ml/input/data/test\",\"train\":\"/opt/ml/input/data/train\"},\"current_host\":\"algo-1\",\"framework_module\":\"sagemaker_sklearn_container.training:main\",\"hosts\":[\"algo-1\"],\"hyperparameters\":{\"n-estimators\":100},\"input_config_dir\":\"/opt/ml/input/config\",\"input_data_config\":{\"test\":{\"ContentType\":\"csv\",\"RecordWrapperType\":\"None\",\"S3DistributionType\":\"FullyReplicated\",\"TrainingInputMode\":\"File\"},\"train\":{\"ContentType\":\"csv\",\"RecordWrapperType\":\"None\",\"S3DistributionType\":\"FullyReplicated\",\"TrainingInputMode\":\"File\"}},\"input_dir\":\"/opt/ml/input\",\"is_master\":true,\"job_name\":\"sagemaker-scikit-learn-2022-04-16-22-01-25-338\",\"log_level\":20,\"master_hostname\":\"algo-1\",\"model_dir\":\"/opt/ml/model\",\"module_dir\":\"s3://sagemaker-us-east-1-579156935154/sagemaker-scikit-learn-2022-04-16-22-01-25-338/source/sourcedir.tar.gz\",\"module_name\":\"train\",\"network_interface_name\":\"eth0\",\"num_cpus\":4,\"num_gpus\":0,\"output_data_dir\":\"/opt/ml/output/data\",\"output_dir\":\"/opt/ml/output\",\"output_intermediate_dir\":\"/opt/ml/output/intermediate\",\"resource_config\":{\"current_group_name\":\"homogeneousCluster\",\"current_host\":\"algo-1\",\"current_instance_type\":\"ml.c5.xlarge\",\"hosts\":[\"algo-1\"],\"instance_groups\":[{\"hosts\":[\"algo-1\"],\"instance_group_name\":\"homogeneousCluster\",\"instance_type\":\"ml.c5.xlarge\"}],\"network_interface_name\":\"eth0\"},\"user_entry_point\":\"train.py\"}\u001b[0m\n",
      "\u001b[34mSM_USER_ARGS=[\"--n-estimators\",\"100\"]\u001b[0m\n",
      "\u001b[34mSM_OUTPUT_INTERMEDIATE_DIR=/opt/ml/output/intermediate\u001b[0m\n",
      "\u001b[34mSM_CHANNEL_TEST=/opt/ml/input/data/test\u001b[0m\n",
      "\u001b[34mSM_CHANNEL_TRAIN=/opt/ml/input/data/train\u001b[0m\n",
      "\u001b[34mSM_HP_N-ESTIMATORS=100\u001b[0m\n",
      "\u001b[34mPYTHONPATH=/opt/ml/code:/miniconda3/bin:/miniconda3/lib/python37.zip:/miniconda3/lib/python3.7:/miniconda3/lib/python3.7/lib-dynload:/miniconda3/lib/python3.7/site-packages\u001b[0m\n",
      "\u001b[34mInvoking script with the following command:\u001b[0m\n",
      "\u001b[34m/miniconda3/bin/python train.py --n-estimators 100\u001b[0m\n",
      "\u001b[34mMAE: 0.005966414611582728\u001b[0m\n",
      "\u001b[34m2022-04-16 22:03:45,353 sagemaker-containers INFO     Reporting training SUCCESS\u001b[0m\n",
      "\n",
      "2022-04-16 22:04:24 Completed - Training job completed\n",
      "Training seconds: 77\n",
      "Billable seconds: 77\n"
     ]
    }
   ],
   "source": [
    "sklearn.fit({'train': s3_input_train, 'test': s3_input_validation})"
   ]
  },
  {
   "cell_type": "markdown",
   "metadata": {},
   "source": [
    "## Deploy Model"
   ]
  },
  {
   "cell_type": "code",
   "execution_count": 12,
   "metadata": {},
   "outputs": [
    {
     "name": "stdout",
     "output_type": "stream",
     "text": [
      "EndpointName = reactor-perf-predict-2022-04-16-22-04-38\n",
      "\n",
      "\n",
      "------!\n",
      "Model Deployed\n"
     ]
    }
   ],
   "source": [
    "endpoint_name = \"reactor-perf-predict-\" + strftime(\"%Y-%m-%d-%H-%M-%S\", gmtime())\n",
    "print(\"EndpointName = {}\".format(endpoint_name))\n",
    "print('\\n')\n",
    "\n",
    "predictor = sklearn.deploy(initial_instance_count=1,\n",
    "                           instance_type=\"ml.m4.xlarge\",\n",
    "                           endpoint_name=endpoint_name)\n",
    "print('\\nModel Deployed')"
   ]
  },
  {
   "cell_type": "markdown",
   "metadata": {},
   "source": [
    "## Batch Inference using the Endpoint"
   ]
  },
  {
   "cell_type": "code",
   "execution_count": 13,
   "metadata": {},
   "outputs": [
    {
     "name": "stdout",
     "output_type": "stream",
     "text": [
      "s3://sagemaker-studio-us-east-1-579156935154/chemreactorml/new/new_data.csv\n"
     ]
    }
   ],
   "source": [
    "# Load new data for inference into S3\n",
    "new_data_s3url = sagemaker.s3.S3Uploader.upload(\"data/new_data.csv\", \"s3://{}/{}/{}\".format(bucket, prefix, \"new\"))\n",
    "print(new_data_s3url)"
   ]
  },
  {
   "cell_type": "code",
   "execution_count": 14,
   "metadata": {},
   "outputs": [],
   "source": [
    "def batch_inference(bucket, key, endpoint, feature_list, print_predictions=True, upload_to_s3=True):\n",
    "    s3 = boto3.client('s3')\n",
    "    data_object = s3.get_object(Bucket=bucket, Key=key)\n",
    "    new_data = pd.read_csv(data_object['Body'])\n",
    "    s3_url = \"s3://{}/{}\".format(bucket, key)\n",
    "    print('New data loaded from', s3_url)\n",
    "\n",
    "    \n",
    "    print('Endpoint name:', endpoint)\n",
    "    predictor = sagemaker.predictor.Predictor(endpoint_name=endpoint, \n",
    "                                              serializer=sagemaker.serializers.NumpySerializer(),\n",
    "                                              deserializer=sagemaker.deserializers.NumpyDeserializer())\n",
    "\n",
    "    X = new_data[feature_list]\n",
    "    print(len(X), 'observations found')\n",
    "\n",
    "    y = predictor.predict(X)\n",
    "    print('Predictions generated for new data')\n",
    "    \n",
    "    if print_predictions == True:\n",
    "        print(y)\n",
    "        print(len(y), 'predictions')\n",
    "\n",
    "    if upload_to_s3 == True:\n",
    "        predictions_file = 'predictions.csv'\n",
    "        predictions = pd.DataFrame(y).to_csv(predictions_file, index=False, header=None)\n",
    "        print('Predictions csv file created')\n",
    "        predictions_s3url = sagemaker.s3.S3Uploader.upload(predictions_file, \"s3://{}/{}/{}\".format(bucket, prefix, \"batchpredictions\"))\n",
    "        print('Predictions saved in', predictions_s3url)"
   ]
  },
  {
   "cell_type": "code",
   "execution_count": 16,
   "metadata": {},
   "outputs": [
    {
     "name": "stdout",
     "output_type": "stream",
     "text": [
      "New data loaded from s3://sagemaker-studio-us-east-1-579156935154/chemreactorml/new/new_data.csv\n",
      "Endpoint name: reactor-perf-predict-2022-04-16-22-04-38\n",
      "5000 observations found\n",
      "Predictions generated for new data\n",
      "[0.67686802 0.68949476 0.7511981  ... 0.93543934 0.2643853  0.83869721]\n",
      "5000 predictions\n",
      "Predictions csv file created\n",
      "Predictions saved in s3://sagemaker-studio-us-east-1-579156935154/chemreactorml/batchpredictions/predictions.csv\n"
     ]
    }
   ],
   "source": [
    "bucket = 'sagemaker-studio-us-east-1-579156935154'\n",
    "key = 'chemreactorml/new/new_data.csv'\n",
    "endpoint = 'reactor-perf-predict-2022-04-16-22-04-38'\n",
    "feature_list = ['Fao', 'Fbo', 'P', 'To', 'Cto', 'm', 'Ta']\n",
    "\n",
    "batch_inference(bucket, \n",
    "                key, \n",
    "                endpoint, \n",
    "                feature_list=feature_list, \n",
    "                print_predictions=True, \n",
    "                upload_to_s3=True)"
   ]
  },
  {
   "cell_type": "markdown",
   "metadata": {},
   "source": [
    "## Clean Up"
   ]
  },
  {
   "cell_type": "code",
   "execution_count": 17,
   "metadata": {},
   "outputs": [],
   "source": [
    "#sagemaker_session.delete_endpoint(predictor.endpoint)\n",
    "sagemaker_session.delete_endpoint(endpoint)"
   ]
  },
  {
   "cell_type": "code",
   "execution_count": null,
   "metadata": {},
   "outputs": [],
   "source": []
  }
 ],
 "metadata": {
  "instance_type": "ml.t3.medium",
  "kernelspec": {
   "display_name": "Python 3 (Data Science)",
   "language": "python",
   "name": "python3__SAGEMAKER_INTERNAL__arn:aws:sagemaker:us-east-1:081325390199:image/datascience-1.0"
  },
  "language_info": {
   "codemirror_mode": {
    "name": "ipython",
    "version": 3
   },
   "file_extension": ".py",
   "mimetype": "text/x-python",
   "name": "python",
   "nbconvert_exporter": "python",
   "pygments_lexer": "ipython3",
   "version": "3.7.10"
  }
 },
 "nbformat": 4,
 "nbformat_minor": 4
}
