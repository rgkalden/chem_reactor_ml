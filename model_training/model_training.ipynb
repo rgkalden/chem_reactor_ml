{
 "cells": [
  {
   "cell_type": "code",
   "execution_count": 1,
   "metadata": {},
   "outputs": [],
   "source": [
    "import numpy as np\n",
    "import pandas as pd\n",
    "import matplotlib.pyplot as plt\n",
    "import seaborn as sns\n",
    "%matplotlib inline\n",
    "\n",
    "from data_preparation.data_preparation import *"
   ]
  },
  {
   "cell_type": "code",
   "execution_count": 2,
   "metadata": {},
   "outputs": [],
   "source": [
    "#feature_list = ['Fao', 'Fbo', 'P', 'To', 'Cto', 'm', 'Ta']\n",
    "feature_list = ['Fao', 'Fbo', 'P', 'To', 'Cto', 'm', 'Ta']\n",
    "target_variable = 'Yc'\n",
    "dataframe = pd.read_csv('data_generation/reactor_performance_data.csv')"
   ]
  },
  {
   "cell_type": "code",
   "execution_count": 3,
   "metadata": {},
   "outputs": [
    {
     "name": "stdout",
     "output_type": "stream",
     "text": [
      "Data Shapes:\n",
      "X_train  (6000, 7)\n",
      "y_train  (6000,)\n",
      "X_test  (4000, 7)\n",
      "y_test  (4000,)\n"
     ]
    }
   ],
   "source": [
    "X_train, X_test, y_train, y_test = data_preparation(dataframe, \n",
    "                                                    feature_list, \n",
    "                                                    target_variable, \n",
    "                                                    test_size=0.4, \n",
    "                                                    random_state=42,\n",
    "                                                    print_shapes=True,\n",
    "                                                    standardize=False)"
   ]
  },
  {
   "cell_type": "code",
   "execution_count": 4,
   "metadata": {},
   "outputs": [
    {
     "data": {
      "text/plain": [
       "RandomForestRegressor(random_state=0)"
      ]
     },
     "execution_count": 4,
     "metadata": {},
     "output_type": "execute_result"
    }
   ],
   "source": [
    "from sklearn.ensemble import RandomForestRegressor\n",
    "\n",
    "rfm = RandomForestRegressor(random_state=0, verbose=0)\n",
    "rfm.fit(X_train, y_train)"
   ]
  },
  {
   "cell_type": "code",
   "execution_count": 5,
   "metadata": {},
   "outputs": [
    {
     "name": "stdout",
     "output_type": "stream",
     "text": [
      "MAE for Random Forest:  0.01257\n"
     ]
    }
   ],
   "source": [
    "from sklearn.metrics import mean_absolute_error\n",
    "\n",
    "rfm_pred = rfm.predict(X_test)\n",
    "\n",
    "rfm_mae = mean_absolute_error(y_test, rfm_pred)\n",
    "print('MAE for Random Forest: ', round(rfm_mae, 5))"
   ]
  },
  {
   "cell_type": "code",
   "execution_count": 6,
   "metadata": {},
   "outputs": [
    {
     "data": {
      "text/html": [
       "<div>\n",
       "<style scoped>\n",
       "    .dataframe tbody tr th:only-of-type {\n",
       "        vertical-align: middle;\n",
       "    }\n",
       "\n",
       "    .dataframe tbody tr th {\n",
       "        vertical-align: top;\n",
       "    }\n",
       "\n",
       "    .dataframe thead th {\n",
       "        text-align: right;\n",
       "    }\n",
       "</style>\n",
       "<table border=\"1\" class=\"dataframe\">\n",
       "  <thead>\n",
       "    <tr style=\"text-align: right;\">\n",
       "      <th></th>\n",
       "      <th>Random Forest Importance</th>\n",
       "    </tr>\n",
       "    <tr>\n",
       "      <th>Feature</th>\n",
       "      <th></th>\n",
       "    </tr>\n",
       "  </thead>\n",
       "  <tbody>\n",
       "    <tr>\n",
       "      <th>Fao</th>\n",
       "      <td>0.06630</td>\n",
       "    </tr>\n",
       "    <tr>\n",
       "      <th>Fbo</th>\n",
       "      <td>0.90696</td>\n",
       "    </tr>\n",
       "    <tr>\n",
       "      <th>P</th>\n",
       "      <td>0.02078</td>\n",
       "    </tr>\n",
       "    <tr>\n",
       "      <th>To</th>\n",
       "      <td>0.00183</td>\n",
       "    </tr>\n",
       "    <tr>\n",
       "      <th>Cto</th>\n",
       "      <td>0.00134</td>\n",
       "    </tr>\n",
       "    <tr>\n",
       "      <th>m</th>\n",
       "      <td>0.00167</td>\n",
       "    </tr>\n",
       "    <tr>\n",
       "      <th>Ta</th>\n",
       "      <td>0.00113</td>\n",
       "    </tr>\n",
       "  </tbody>\n",
       "</table>\n",
       "</div>"
      ],
      "text/plain": [
       "        Random Forest Importance\n",
       "Feature                         \n",
       "Fao                      0.06630\n",
       "Fbo                      0.90696\n",
       "P                        0.02078\n",
       "To                       0.00183\n",
       "Cto                      0.00134\n",
       "m                        0.00167\n",
       "Ta                       0.00113"
      ]
     },
     "execution_count": 6,
     "metadata": {},
     "output_type": "execute_result"
    }
   ],
   "source": [
    "rf_dict = {'Feature':np.asarray(feature_list), 'Random Forest Importance':rfm.feature_importances_}\n",
    "\n",
    "rfimp_df = pd.DataFrame(rf_dict, index=None)\n",
    "rfimp_df.set_index('Feature', inplace=True)\n",
    "rfimp_df.apply(lambda s: s.apply('{0:.5f}'.format))"
   ]
  },
  {
   "cell_type": "code",
   "execution_count": null,
   "metadata": {},
   "outputs": [],
   "source": []
  }
 ],
 "metadata": {
  "interpreter": {
   "hash": "3dfcb770537d700cb501395e8b5186bfd40ca4db97d39a8878f40bbad514c412"
  },
  "kernelspec": {
   "display_name": "Python 3.8.0 ('chem_reactor_ml_env': venv)",
   "language": "python",
   "name": "python3"
  },
  "language_info": {
   "codemirror_mode": {
    "name": "ipython",
    "version": 3
   },
   "file_extension": ".py",
   "mimetype": "text/x-python",
   "name": "python",
   "nbconvert_exporter": "python",
   "pygments_lexer": "ipython3",
   "version": "3.8.0"
  },
  "orig_nbformat": 4
 },
 "nbformat": 4,
 "nbformat_minor": 2
}
