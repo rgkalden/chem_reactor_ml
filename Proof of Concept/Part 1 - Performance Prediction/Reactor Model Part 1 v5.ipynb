{
 "cells": [
  {
   "cell_type": "markdown",
   "metadata": {},
   "source": [
    "# Modelling a Chemical Reactor Using Machine Learning, Part 1: Predicting Product Yield\n",
    "\n",
    "Richard Kaldenhoven\n",
    "\n",
    "Updated June 14, 2021. Original Version May 3, 2021"
   ]
  },
  {
   "cell_type": "markdown",
   "metadata": {},
   "source": [
    "## 1. Introduction\n",
    "\n",
    "Many products from industrial chemical processes are manufactured in a chemical reactor, the type of equipment used to carry out chemical reactions at a large scale. Feed chemicals are sent to the reactor and then the products are withdrawn, either in a batch or continuous process. If the reaction is endothermic (absorbs heat) or exothermic (releases heat), then energy must be added or removed from the reactor to control the reaction temperature. The chemical reaction that produces the desired product may be joined by side reactions that produce undesired products.\n",
    "\n",
    "The design of an efficient chemical reactor must take into consideration the feed conditions, energy requirements, side reactions, as well as the desired product quality. The economics of the process may depend on the ability to create a product of a certain quality, for example, an inefficient reactor may require additional equipment to separate out the desired product from the undesired products. A useful performance metric to measure the amount of desired product is the **overall yield (Y)**, defined generally as:\n",
    "\n",
    "$ Y = \\frac{amount \\space of \\space desired \\space product \\space produced}{amount \\space of \\space feed \\space component \\space reacted} $\n",
    "\n",
    "\n",
    "In other words, the overall yield is a fraction (values from 0 to 1) representing how much product is created for the amount of feed that is sent to the reactor. Once a chemical reactor is in operation, the yield must still be maximized by adapting to changes in process conditions in order to maintain the desired product quality. \n",
    "\n",
    "The purpose of this project is to demonstrate how machine learning can be used to model the relationship between the process conditions and the overall yield, so that a real time prediction for reactor performance can be provided to those involved with operating the reactor. A real time prediction for reactor performance given by a machine learning model can be part of a system that raises a warning if the yield decreases below a target value, and then provides information on which process conditions are causing the decrease so that action can be taken to return to maximum yield."
   ]
  },
  {
   "cell_type": "markdown",
   "metadata": {},
   "source": [
    "## 2. Data Generation\n",
    "\n",
    "In order to define the machine learning problem it is first necessary to explain the source of the data that will be used. Since operating data for a real world reactor is not available, data will be generated based on an analytical model of an example reactor. The analytical model will require values for the input variables to the reactor, such as the chemical reaction parameters, and then return values for the output variables, such as the overall yield. \n",
    "\n",
    "The reactor will operate in two modes:\n",
    "\n",
    "1. **Mode 1 - Baseline Operation Case:** Normal operation, with relatively high yield\n",
    "2. **Mode 2 - Off Spec Case:** Abnormal operation, with relatively low yield\n",
    "\n",
    "The following gas phase chemical reactions are considered:\n",
    "\n",
    "$ (1) \\space \\space A + 2B \\rightarrow C $\n",
    "\n",
    "$ (2) \\space \\space 2A + 3C \\rightarrow 3D $\n",
    "\n",
    "The reactions are considered to be complex, since it is a combination of series and parallel side reactions: reactant A and product C react to form D. Since the reaction order and activation energy are higher for the second reaction, in order to maximize yield, the feed to the reactor must have a low concentration of A and a low temperature. It will be shown that the difference in operating modes comes results from differences in these feed parameters.\n",
    "\n",
    "The reactions are carried out in a Plug Flow Reactor (PFR), a type of reactor that resembles a pipe, with the reaction progressing down the length of the pipe. The reactions are exothermic, so cooling water is fed in a jacket surrounding the reactor in a co-current configuration, as shown in the following schematic."
   ]
  },
  {
   "cell_type": "markdown",
   "metadata": {},
   "source": [
    "<img src='reactor.jpg' width='800' height='600' />"
   ]
  },
  {
   "cell_type": "markdown",
   "metadata": {},
   "source": [
    "The example reactor used in this project is based on Example 12-7 in *Essentials of Chemical Reaction Engineering* [1], with several reaction parameters changed to make the side reaction (2) and heat generated from the reactions more significant relative to the feed conditions.\n",
    "\n",
    "The strategy used to generate data takes the following steps:\n",
    "\n",
    "1. Establish a baseline operation case from an analytical model of a reactor by solving the equations describing the process\n",
    "2. To simulate real world operation, apply variation to the input values to the analytical model for each operating mode, and track the effect on the output values such as the overall yield\n",
    "3. Generate \"noise\" data in the range between operating modes, to make their boundaries less distinct\n",
    "\n",
    "If the reader is purely interested in the machine learning aspects of this project, they may skip to Section 2.3 where the generated data is presented."
   ]
  },
  {
   "cell_type": "markdown",
   "metadata": {},
   "source": [
    "### 2.1 Baseline Operation Case\n",
    "\n",
    "The equations for the analytical reactor model are as follows:"
   ]
  },
  {
   "cell_type": "markdown",
   "metadata": {},
   "source": [
    "**Complex Gas Phase Reactions, with elementary rate laws**\n",
    "\n",
    "$ (1) \\space \\space A + 2B \\rightarrow C $\n",
    "\n",
    "$ (2) \\space \\space 2A + 3C \\rightarrow 3D $\n",
    "\n",
    "$ -r_{1A} = k_{1A}C_{A}C_{B}^2 $\n",
    "\n",
    "$ -r_{2C} = k_{2C}C_{A}^2C_{C}^3 $"
   ]
  },
  {
   "cell_type": "markdown",
   "metadata": {},
   "source": [
    "**Reaction Parameters**\n",
    "\n",
    "$ \\Delta H_{Rx1B} = -10000 \\space cal/mol B $\n",
    "\n",
    "$ \\Delta H_{Rx2A} = -8000  \\space cal/mol A $\n",
    "\n",
    "$ k_{1A} = 40 \\space (dm^3/mol)^2/min = 40[\\frac{E_{1}}{R}(\\frac{1}{T_{o}} - \\frac{1}{T})] \\space (dm^3/mol)^2/min $ (using Arrhenius equation to express as a function of temperature)\n",
    "\n",
    "$ k_{2c} = 40 \\space (dm^3/mol)^2/min = 40[\\frac{E_{1}}{R}(\\frac{1}{T_{o}} - \\frac{1}{T})] \\space (dm^3/mol)^2/min $ (using Arrhenius equation to express as a function of temperature)\n",
    "\n",
    "$ E_{1} = 8000 \\space cal/mol $\n",
    "\n",
    "$ E_{2} = 14000 \\space cal/mol $"
   ]
  },
  {
   "cell_type": "markdown",
   "metadata": {},
   "source": [
    "**Mole and Energy Balance Parameters**\n",
    "\n",
    "$ F_{A} = 5 \\space mol/min $\n",
    "\n",
    "$ F_{B} = 10 \\space mol/min $ (stoichiometric ratio with A)\n",
    "\n",
    "$ V = 20 \\space m^3 $\n",
    "\n",
    "$ T_{o} = 300 \\space K $\n",
    "\n",
    "$ C_{To} = 0.2 \\space mol/dm^3 $\n",
    "\n",
    "$ P = 4.92 \\space atm $ (constant pressure in reactor, no pressure drop)\n",
    "\n",
    "$ y = 1 $ (no pressure drop)\n",
    "\n",
    "$ m = 10 \\space mol/min $\n",
    "\n",
    "$ C_{PCo} = 18.02 \\space cal/mol K $\n",
    "\n",
    "$ T_{A} = 325 \\space K $\n",
    "\n",
    "$ C_{PA} = 10 \\space cal/mol K $\n",
    "\n",
    "$ C_{PB} = 12 \\space cal/mol K $\n",
    "\n",
    "$ C_{PC} = 14 \\space cal/mol K $\n",
    "\n",
    "$ C_{PD} = 16 \\space cal/mol K $\n",
    "\n",
    "$ Ua = 80 \\space cal/min K $"
   ]
  },
  {
   "cell_type": "markdown",
   "metadata": {},
   "source": [
    "**Mole Balances**\n",
    "\n",
    "$ \\frac{dF_{A}}{dV} = r_{A} $\n",
    "\n",
    "$ \\frac{dF_{B}}{dV} = r_{B} $\n",
    "\n",
    "$ \\frac{dF_{C}}{dV} = r_{C} $\n",
    "\n",
    "$ \\frac{dF_{D}}{dV} = r_{D} $"
   ]
  },
  {
   "cell_type": "markdown",
   "metadata": {},
   "source": [
    "**Reaction Rates**\n",
    "\n",
    "Rate Laws\n",
    "\n",
    "$ -r_{1A} = k_{1A}C_{A}C_{B}^2 $\n",
    "\n",
    "$ -r_{2C} = k_{2C}C_{A}^2C_{C}^3 $\n",
    "\n",
    "Relative Rates\n",
    "\n",
    "$ r_{1B} = 2r_{1A} $\n",
    "\n",
    "$ r_{1C} = -r_{1A} $\n",
    "\n",
    "$ r_{2A} = \\frac{2}{3}r_{2C} $\n",
    "\n",
    "$ r_{2D} = \\frac{-3}{3}r_{2C} $\n",
    "\n",
    "Net Rates\n",
    "\n",
    "$ r_{A} = r_{1A} + r_{2A} $\n",
    "\n",
    "$ r_{B} = r_{1B} $\n",
    "\n",
    "$ r_{C} = r_{1C} + r_{2C} $\n",
    "\n",
    "$ r_{D} = r_{2D} $"
   ]
  },
  {
   "cell_type": "markdown",
   "metadata": {},
   "source": [
    "**Stoichiometry**\n",
    "\n",
    "$ C_{A} = C_{To}(\\frac{F_{A}}{F_{T}})(\\frac{T_{o}}{T})y $\n",
    "\n",
    "$ C_{B} = C_{To}(\\frac{F_{B}}{F_{T}})(\\frac{T_{o}}{T})y $\n",
    "\n",
    "$ C_{C} = C_{To}(\\frac{F_{C}}{F_{T}})(\\frac{T_{o}}{T})y $\n",
    "\n",
    "$ C_{D} = C_{To}(\\frac{F_{D}}{F_{T}})(\\frac{T_{o}}{T})y $\n",
    "\n",
    "$ F_{T} = F_{A} + F_{B} + F_{C} + F_{D} $\n"
   ]
  },
  {
   "cell_type": "markdown",
   "metadata": {},
   "source": [
    "**Energy Balance**\n",
    "\n",
    "$ \\frac{dT}{dV} = \\frac{Q_{g} - Q_{r}}{\\sum F_{j}C_{Pj}} $\n",
    "\n",
    "$ \\sum F_{j}C_{Pj} = F_{A}C_{PA} + F_{B}C_{PB} + F_{C}C_{PC} + F_{D}C_{PD} $\n",
    "\n",
    "Heat Removed\n",
    "\n",
    "$ Q_{r} = Ua(T - T_{a}) $\n",
    "\n",
    "Heat Generated\n",
    "\n",
    "$ Q_{g} = \\sum r_{ij} \\Delta H_{Rij} = r_{1B}\\Delta H_{Rx1B} + r_{2A}\\Delta H_{Rx2A}$\n",
    "\n",
    "Co-current Heat Exchange\n",
    "\n",
    "$ \\frac{dTa}{dV} = \\frac{Ua(T - T_{a})}{mC_{PCo}} $"
   ]
  },
  {
   "cell_type": "code",
   "execution_count": 1,
   "metadata": {},
   "outputs": [],
   "source": [
    "import numpy as np\n",
    "import pandas as pd\n",
    "from scipy.integrate import solve_ivp\n",
    "import math\n",
    "import matplotlib.pyplot as plt\n",
    "import seaborn as sns\n",
    "%matplotlib inline"
   ]
  },
  {
   "cell_type": "markdown",
   "metadata": {},
   "source": [
    "The system of equations defined previously will be solved using the `solve_ivp` function from the Scipy library (the equations are a system of differential equations). To begin, the parameters are stored in a dictionary:"
   ]
  },
  {
   "cell_type": "code",
   "execution_count": 2,
   "metadata": {},
   "outputs": [],
   "source": [
    "params = {'V': 20,\n",
    "         'E2': 14000,\n",
    "         'k2c_const': 40,\n",
    "         'y': 1,\n",
    "         'R': 1.987,\n",
    "         'To': 300,\n",
    "         'E1': 8000,\n",
    "         'Cto': 0.2,\n",
    "         'Cpco': 18.02,\n",
    "         'm': 10,\n",
    "         'k1a_const': 40,\n",
    "         'DH1b': -10000,\n",
    "         'DH2a': -8000,\n",
    "         'Cpd': 16,\n",
    "         'Cpa': 10,\n",
    "         'Cpb': 12,\n",
    "         'Cpc': 14,\n",
    "         'Ua': 80}"
   ]
  },
  {
   "cell_type": "markdown",
   "metadata": {},
   "source": [
    "A function `odes` is then created which contains all of the previously defined equations:"
   ]
  },
  {
   "cell_type": "code",
   "execution_count": 3,
   "metadata": {},
   "outputs": [],
   "source": [
    "def odes(V, x):\n",
    "    try:\n",
    "        # assign variables that vary with respect to V as values from list x\n",
    "        Fa = x[0]\n",
    "        Fb = x[1]\n",
    "        Fc = x[2]\n",
    "        Fd = x[3]\n",
    "        T = x[4]\n",
    "        Ta = x[5]        \n",
    "        # explicit equations and constants\n",
    "        E2 = params['E2']\n",
    "        y = params['y']\n",
    "        R = params['R']\n",
    "        Ft = Fa + Fb + Fc + Fd\n",
    "        To = params['To']\n",
    "        k2c = params['k2c_const'] * math.exp((E2/R)*(1/300 - 1/T))\n",
    "        E1 = params['E1']\n",
    "        Cto = params['Cto']\n",
    "        Ca = Cto * (Fa/Ft) * (To/T) * y    \n",
    "        Cc = Cto * (Fc/Ft) * (To/T) * y\n",
    "        r2c = -k2c * Ca**2 * Cc**3\n",
    "        Cpco = params['Cpco']\n",
    "        m = params['m']\n",
    "        Cb = Cto * (Fb/Ft) * (To/T) * y\n",
    "        k1a = params['k1a_const'] * math.exp((E1/R)*(1/300 - 1/T))\n",
    "        r1a = -k1a * Ca * Cb**2\n",
    "        r1b = 2 * r1a\n",
    "        rb = r1b\n",
    "        r2a = 2/3 * r2c\n",
    "        DH1b = params['DH1b']\n",
    "        DH2a = params['DH2a']\n",
    "        r1c = -r1a\n",
    "        Cpd = params['Cpd']\n",
    "        Cpa = params['Cpa']\n",
    "        Cpb = params['Cpb']\n",
    "        Cpc = params['Cpc']\n",
    "        sumFiCpi = Cpa * Fa + Cpb * Fb + Cpc * Fc + Cpd * Fd\n",
    "        rc = r1c + r2c\n",
    "        Ua = params['Ua']\n",
    "        r2d = -3/3 * r2c # -1/3 changed to -3/3\n",
    "        ra = r1a + r2a\n",
    "        rd = r2d\n",
    "        Qg = r1b * DH1b + r2a * DH2a\n",
    "        Qr = Ua * (T - Ta)    \n",
    "        # define each ODE\n",
    "        dFa_dV = ra\n",
    "        dFb_dV = rb\n",
    "        dFc_dV = rc\n",
    "        dFd_dV = rd\n",
    "        dT_dV = (Qg - Qr) / sumFiCpi\n",
    "        dTa_dV = Ua * (T - Ta) / (m * Cpco)\n",
    "        return [dFa_dV, dFb_dV, dFc_dV, dFd_dV, dT_dV, dTa_dV]\n",
    "    except:\n",
    "        pass"
   ]
  },
  {
   "cell_type": "markdown",
   "metadata": {},
   "source": [
    "Initial conditions for the equations are defined:"
   ]
  },
  {
   "cell_type": "code",
   "execution_count": 4,
   "metadata": {},
   "outputs": [],
   "source": [
    "#     initial conditions, co-current heat exchange\n",
    "#    [Fa, Fb, Fc, Fd, T, Ta]\n",
    "xo = [5, 10, 0, 0, 300, 325]"
   ]
  },
  {
   "cell_type": "markdown",
   "metadata": {},
   "source": [
    "Next, the `t_eval` variable stores the volumes at which `solve_ivp` will record results. The `solve_ivp` function assumes that time is always the dependendent variable, however in this problem it is the volume, but \"time\" is still referred to in order to be consistent with how the function works."
   ]
  },
  {
   "cell_type": "code",
   "execution_count": 5,
   "metadata": {},
   "outputs": [],
   "source": [
    "t_eval = np.linspace(0, params['V'], params['V'] + 1)"
   ]
  },
  {
   "cell_type": "markdown",
   "metadata": {},
   "source": [
    "`solve_ivp` is called, and the results are stored in the variable `solution`. `solution.t` shows the volumes at which the analytical model results are calculated at. `solution.y` is an array of results for each differential equation, at each volume value in `solution.t`."
   ]
  },
  {
   "cell_type": "code",
   "execution_count": 6,
   "metadata": {},
   "outputs": [],
   "source": [
    "solution = solve_ivp(odes, [0, params['V']], xo, t_eval = t_eval)"
   ]
  },
  {
   "cell_type": "code",
   "execution_count": 7,
   "metadata": {},
   "outputs": [
    {
     "data": {
      "text/plain": [
       "array([ 0.,  1.,  2.,  3.,  4.,  5.,  6.,  7.,  8.,  9., 10., 11., 12.,\n",
       "       13., 14., 15., 16., 17., 18., 19., 20.])"
      ]
     },
     "execution_count": 7,
     "metadata": {},
     "output_type": "execute_result"
    }
   ],
   "source": [
    "solution.t"
   ]
  },
  {
   "cell_type": "code",
   "execution_count": 8,
   "metadata": {},
   "outputs": [
    {
     "data": {
      "text/plain": [
       "array([[5.00000000e+00, 4.93920184e+00, 4.85343179e+00, 4.74223346e+00,\n",
       "        4.59985894e+00, 4.41289230e+00, 4.15235791e+00, 3.75220968e+00,\n",
       "        3.03844644e+00, 1.79278790e+00, 8.22316779e-01, 4.53067034e-01,\n",
       "        2.99167747e-01, 2.17668610e-01, 1.64828934e-01, 1.28756206e-01,\n",
       "        1.02735203e-01, 8.33453430e-02, 6.85029962e-02, 5.69645322e-02,\n",
       "        4.77245593e-02],\n",
       "       [1.00000000e+01, 9.87840368e+00, 9.70686358e+00, 9.48446695e+00,\n",
       "        9.19971813e+00, 8.82578592e+00, 8.30472502e+00, 7.50449788e+00,\n",
       "        6.07820792e+00, 3.63269304e+00, 1.96741790e+00, 1.42847956e+00,\n",
       "        1.21013555e+00, 1.09190168e+00, 1.01379575e+00, 9.59123553e-01,\n",
       "        9.18705725e-01, 8.87832941e-01, 8.63643435e-01, 8.44409148e-01,\n",
       "        8.28711481e-01],\n",
       "       [0.00000000e+00, 6.07981580e-02, 1.46568207e-01, 2.57766501e-01,\n",
       "        4.00140742e-01, 5.87106058e-01, 8.47630592e-01, 1.24769217e+00,\n",
       "        1.95990977e+00, 3.14831555e+00, 3.77420279e+00, 3.89400110e+00,\n",
       "        3.93608218e+00, 3.96162582e+00, 3.97999871e+00, 3.99422987e+00,\n",
       "        4.00572065e+00, 4.01522684e+00, 4.02320020e+00, 4.02993536e+00,\n",
       "        4.03569749e+00],\n",
       "       [0.00000000e+00, 4.37805312e-11, 1.94360425e-09, 2.18188712e-08,\n",
       "        1.90673631e-07, 9.82828736e-07, 6.89823972e-06, 5.88906659e-05,\n",
       "        9.86272776e-04, 3.53379280e-02, 2.42088256e-01, 3.91759122e-01,\n",
       "        4.58850041e-01, 4.92423344e-01, 5.13103414e-01, 5.26208357e-01,\n",
       "        5.34926489e-01, 5.40856691e-01, 5.44978082e-01, 5.47860063e-01,\n",
       "        5.49946772e-01],\n",
       "       [3.00000000e+02, 3.13714278e+02, 3.23773649e+02, 3.33321193e+02,\n",
       "        3.44247979e+02, 3.58307526e+02, 3.78581187e+02, 4.11997782e+02,\n",
       "        4.78703000e+02, 6.04613709e+02, 6.55251482e+02, 6.32090693e+02,\n",
       "        6.15636776e+02, 6.10429460e+02, 6.08937435e+02, 6.09129936e+02,\n",
       "        6.09644721e+02, 6.10042894e+02, 6.10402192e+02, 6.11622423e+02,\n",
       "        6.11586699e+02],\n",
       "       [3.25000000e+02, 3.18849540e+02, 3.18991125e+02, 3.22537523e+02,\n",
       "        3.28431238e+02, 3.36685761e+02, 3.48094447e+02, 3.64874698e+02,\n",
       "        3.93057362e+02, 4.46989264e+02, 5.17378497e+02, 5.62662318e+02,\n",
       "        5.84210503e+02, 5.94029914e+02, 5.99622877e+02, 6.02959216e+02,\n",
       "        6.05240193e+02, 6.06958625e+02, 6.08270567e+02, 6.08908750e+02,\n",
       "        6.09856706e+02]])"
      ]
     },
     "execution_count": 8,
     "metadata": {},
     "output_type": "execute_result"
    }
   ],
   "source": [
    "solution.y"
   ]
  },
  {
   "cell_type": "markdown",
   "metadata": {},
   "source": [
    "In order to understand the results of the analytical model, the values are plotted using the following code."
   ]
  },
  {
   "cell_type": "code",
   "execution_count": 9,
   "metadata": {},
   "outputs": [
    {
     "data": {
      "image/png": "[encoded data removed]",
      "text/plain": [
       "<Figure size 720x288 with 2 Axes>"
      ]
     },
     "metadata": {
      "needs_background": "light"
     },
     "output_type": "display_data"
    }
   ],
   "source": [
    "T = solution.y[4]\n",
    "Ta = solution.y[5]\n",
    "\n",
    "Fa = solution.y[0]\n",
    "Fb = solution.y[1]\n",
    "Fc = solution.y[2]\n",
    "Fd = solution.y[3]\n",
    "\n",
    "fig, (ax1, ax2) = plt.subplots(1,2, sharex=True, figsize=(10,4))\n",
    "fig.suptitle('Reactor Temperature and Flow Profiles with Co-current Heat Exchange', y = 1.05)\n",
    "\n",
    "ax1.plot(T)\n",
    "ax1.plot(Ta)\n",
    "ax1.legend(['T', 'Ta'])\n",
    "ax1.set_xticks(t_eval)\n",
    "ax1.set(xlabel='V (dm3)', ylabel='T (K)')\n",
    "ax1.grid()\n",
    "\n",
    "ax2.plot(Fa)\n",
    "ax2.plot(Fb)\n",
    "ax2.plot(Fc)\n",
    "ax2.plot(Fd)\n",
    "ax2.legend(['Fa', 'Fb', 'Fc', 'Fd'])\n",
    "ax2.set(xlabel='V (dm3)', ylabel='Fi (mol/min)')\n",
    "ax2.grid()\n",
    "\n",
    "plt.tight_layout()"
   ]
  },
  {
   "cell_type": "markdown",
   "metadata": {},
   "source": [
    "The x-axis of the plots can be interpreted as the reactor \"length\": each increment in volume represents moving along the length of the reactor. The temperature plot shows how the temperature rises as the reaction proceeds within the reactor, and how the cooling water temperature rises to limit the reaction temperature. The Flow Profiles show how reactants A and B decrease in flow rate as they are converted to products C and D. Product C is the dominant chemical in the products, however undesired product D is also present along with some of A that has not reacted.\n",
    "\n",
    "It is possible to calculate the outlet temperature, maximum reactor temperature, outlet concentration of C, the conversion of A (amount of A reacted/amount of A in feed), and the overall yield based on values stored in `solution`, as shown in the following code. \n",
    "\n",
    "The **overall conversion of A (`Xa`)** is calculated using the following formula:\n",
    "\n",
    "$ X_{a} = \\frac{F_{Ao} - F_{Aout}}{F_{Ao}} $\n",
    "\n",
    "The **yield of product C (`Yc`)** is calculated as:\n",
    "\n",
    "$ Y_{c} = \\frac{F_{Cout}}{F_{Ao} - F_{Aout}} $"
   ]
  },
  {
   "cell_type": "code",
   "execution_count": 10,
   "metadata": {},
   "outputs": [
    {
     "name": "stdout",
     "output_type": "stream",
     "text": [
      "Feed Flowrates A, B (mol/min):  5.0 10.0\n",
      "Outlet Flowrates A, B, C, D (mol/min):  0.048 0.829 4.036 0.55\n",
      "Maximum Reactor Temperature (K):  655.251\n",
      "Outlet concentration of C (mol/dm3):  0.072\n",
      "Overall Conversion of A:  0.99\n",
      "Overall Yield of C:  0.815\n"
     ]
    }
   ],
   "source": [
    "Fao = solution.y[0][0]\n",
    "Fbo = solution.y[1][0]\n",
    "Fa_out = solution.y[0][-1]\n",
    "Fb_out = solution.y[1][-1]\n",
    "Fc_out = solution.y[2][-1]\n",
    "Fd_out = solution.y[3][-1]\n",
    "F_out = Fa_out + Fb_out + Fc_out + Fd_out\n",
    "\n",
    "print('Feed Flowrates A, B (mol/min): ', round(Fao, 3), round(Fbo, 3))\n",
    "print('Outlet Flowrates A, B, C, D (mol/min): ', round(Fa_out, 3), round(Fb_out, 3), round(Fc_out, 3), round(Fd_out, 3),)\n",
    "\n",
    "To = xo[4]\n",
    "T_out = solution.y[4][-1]\n",
    "\n",
    "T_max = max(solution.y[4])\n",
    "print('Maximum Reactor Temperature (K): ', round(T_max, 3))\n",
    "\n",
    "Cc_out = params['Cto'] * (Fc_out / F_out) * (To / T_out)\n",
    "print('Outlet concentration of C (mol/dm3): ', round(Cc_out, 3))\n",
    "\n",
    "Xa = (Fao - Fa_out) / Fao\n",
    "print('Overall Conversion of A: ', round(Xa, 3))\n",
    "\n",
    "#S_cd = Fc_out / Fd_out\n",
    "#print('Overall Selectivity of C vs. D: ', round(S_cd, 3))\n",
    "\n",
    "Yc = Fc_out / (Fao - Fa_out)\n",
    "print('Overall Yield of C: ', round(Yc, 3))"
   ]
  },
  {
   "cell_type": "markdown",
   "metadata": {},
   "source": [
    "### 2.2 Applying Variation\n",
    "\n",
    "With a baseline operation case, it is possible to vary the inputs to the analytical model and track the effect on the outputs. The inputs are varied by drawing a random number from a normal distribution, using the `gen_rand_num` function, which takes the mean and standard deviation as arguments."
   ]
  },
  {
   "cell_type": "code",
   "execution_count": 11,
   "metadata": {},
   "outputs": [],
   "source": [
    "def gen_rand_num(mean, std):\n",
    "    return float(np.random.normal(mean, std, 1))"
   ]
  },
  {
   "cell_type": "markdown",
   "metadata": {},
   "source": [
    "To apply variation to the inputs, it is also necessary to define what the mean and standard deviation of the distribution of randomly drawn numbers are for each operating mode, which is achieved by using two dictionaries: `base_dict` and `lim_dict`.\n",
    "\n",
    "`base_dict` stores the inputs from the base operation case, and these values will become the mean of the distribution of randomly drawn numbers.\n",
    "\n",
    "`lim_dict` stores values representing the fractions of each input that correspond to one standard deviation of the distribution of randomly drawn numbers. For example, one standard deviation of the flowrate `Fa` is equal to 5 x 0.1 = 0.5. The fractions are chosen to be small to simulate operation that does not vary to much from the baseline (a narrow distribution having a small standard deviation). \n",
    "   \n",
    "        "
   ]
  },
  {
   "cell_type": "code",
   "execution_count": 12,
   "metadata": {},
   "outputs": [],
   "source": [
    "# Mode 1\n",
    "base_dict_1 = {'Fa': 5, 'Fb': 10, 'P': 4.92, 'To': 300, 'm': 10, 'Ta': 325}\n",
    "lim_dict_1 = {'Fa': 0.1, 'Fb': 0.1, 'P': 0.1, 'To': 0.03, 'm': 0.2, 'Ta': 0.03}\n",
    "\n",
    "# Mode 2\n",
    "base_dict_2 = {'Fa': 3, 'Fb': 4, 'P': 10, 'To': 500, 'm': 5, 'Ta': 325}\n",
    "lim_dict_2 = {'Fa': 0.05, 'Fb': 0.05, 'P': 0.05, 'To': 0.015, 'm': 0.1, 'Ta': 0.015}"
   ]
  },
  {
   "cell_type": "markdown",
   "metadata": {},
   "source": [
    "The function `generate_data` will loop `num_samples` times, randomly selecting input values using `gen_rand_num` based on the values contained in `base_dict` and `lim_dict`. The `params` dictionary and initial conditions `xo` are then updated and the analytical model equations are solved using `solve_ivp`, as before. Input values and output values are returned in an array."
   ]
  },
  {
   "cell_type": "code",
   "execution_count": 13,
   "metadata": {},
   "outputs": [],
   "source": [
    "def generate_data(num_samples, base_dict, lim_dict, random_seed=0):    \n",
    "    sample_list = []    \n",
    "    np.random.seed(random_seed)\n",
    "    for i in range(0, num_samples):        \n",
    "        # Flowrates\n",
    "        Fao = gen_rand_num(base_dict['Fa'], base_dict['Fa'] * lim_dict['Fa'])\n",
    "        Fbo = gen_rand_num(base_dict['Fb'], base_dict['Fb'] * lim_dict['Fb'])\n",
    "        # Pressure\n",
    "        P = gen_rand_num(base_dict['P'], base_dict['P'] * lim_dict['P'])\n",
    "        # Inlet Temperature\n",
    "        To = gen_rand_num(base_dict['To'], base_dict['To'] * lim_dict['To'])\n",
    "        # Inlet Total Concentration\n",
    "        Cto = P / (0.082 * To)\n",
    "        # Cooling medium flowrate\n",
    "        m = gen_rand_num(base_dict['m'], base_dict['m'] * lim_dict['m'])\n",
    "        # Inlet cooling medium temperature\n",
    "        Ta = gen_rand_num(base_dict['Ta'], base_dict['Ta'] * lim_dict['Ta'])\n",
    "        # update params dictionary\n",
    "        params['To'] = To\n",
    "        params['Cto'] = Cto\n",
    "        params['m'] = m\n",
    "        # update ODE initial conditions\n",
    "        #     initial conditions, co-current heat exchange\n",
    "        #    [Fa, Fb, Fc, Fd, T, Ta]\n",
    "        xo = [Fao, Fbo, 0, 0, To, Ta]\n",
    "        # Solve ODEs\n",
    "        solution = solve_ivp(odes, [0, params['V']], xo, t_eval = t_eval)\n",
    "        # Calculate outlet values\n",
    "        Fao = solution.y[0][0]\n",
    "        Fa_out = solution.y[0][-1]\n",
    "        Fb_out = solution.y[1][-1]\n",
    "        Fc_out = solution.y[2][-1]\n",
    "        Fd_out = solution.y[3][-1]\n",
    "        F_out = Fa_out + Fb_out + Fc_out + Fd_out\n",
    "        To = xo[4]\n",
    "        T_out = solution.y[4][-1]        \n",
    "        T_max = max(solution.y[4])\n",
    "        Cc_out = params['Cto'] * (Fc_out / F_out) * (To / T_out)\n",
    "        Xa = (Fao - Fa_out) / Fao\n",
    "        #S_cd = Fc_out / Fd_out\n",
    "        Yc = Fc_out / (Fao - Fa_out)        \n",
    "        sample_list.append([Fao, Fbo, P, To, Cto, m, Ta, T_max, Fa_out, Fb_out, Fc_out, Fd_out, Cc_out, Xa, Yc])        \n",
    "    data = np.asarray(sample_list)    \n",
    "    return data"
   ]
  },
  {
   "cell_type": "markdown",
   "metadata": {},
   "source": [
    "Noise data is generated by first selecting values from a uniform distribution with a range equal to the values between operating Mode 1 and 2, using the function `noise_value`."
   ]
  },
  {
   "cell_type": "code",
   "execution_count": 14,
   "metadata": {},
   "outputs": [],
   "source": [
    "# Noise\n",
    "def noise_value(key):\n",
    "    high = max([base_dict_1[key], base_dict_2[key]])\n",
    "    low = min([base_dict_1[key], base_dict_2[key]])    \n",
    "    return float(np.random.uniform(low, high, 1))"
   ]
  },
  {
   "cell_type": "markdown",
   "metadata": {},
   "source": [
    "Noise data is then generated using `generate_noise_data` which works in the same manner as `generate_data`, however instead of selecting random values from a normal distribution, the function `noise_value` is used to select values for the input process variables."
   ]
  },
  {
   "cell_type": "code",
   "execution_count": 15,
   "metadata": {},
   "outputs": [],
   "source": [
    "def generate_noise_data(num_samples, base_dict_1, base_dict_2, lim_dict, random_seed=0):    \n",
    "    sample_list = []    \n",
    "    np.random.seed(random_seed)\n",
    "    for i in range(0, num_samples):        \n",
    "        # Flowrates\n",
    "        Fao = noise_value(key='Fa')\n",
    "        Fbo = noise_value(key='Fb')\n",
    "        # Pressure\n",
    "        P = noise_value(key='P')\n",
    "        # Inlet Temperature\n",
    "        To = noise_value(key='To')\n",
    "        # Inlet Total Concentration\n",
    "        Cto = P / (0.082 * To)\n",
    "        # Cooling medium flowrate\n",
    "        m = noise_value(key='m')        \n",
    "        # Inlet cooling medium temperature\n",
    "        Ta = gen_rand_num(base_dict_1['Ta'], base_dict_1['Ta'] * lim_dict['Ta'])\n",
    "        # update params dictionary\n",
    "        params['To'] = To\n",
    "        params['Cto'] = Cto\n",
    "        params['m'] = m\n",
    "        # update ODE initial conditions\n",
    "        #     initial conditions, co-current heat exchange\n",
    "        #    [Fa, Fb, Fc, Fd, T, Ta]\n",
    "        xo = [Fao, Fbo, 0, 0, To, Ta]\n",
    "        # Solve ODEs\n",
    "        solution = solve_ivp(odes, [0, params['V']], xo, t_eval = t_eval)\n",
    "        # Calculate outlet values\n",
    "        Fao = solution.y[0][0]\n",
    "        Fa_out = solution.y[0][-1]\n",
    "        Fb_out = solution.y[1][-1]\n",
    "        Fc_out = solution.y[2][-1]\n",
    "        Fd_out = solution.y[3][-1]\n",
    "        F_out = Fa_out + Fb_out + Fc_out + Fd_out\n",
    "        To = xo[4]\n",
    "        T_out = solution.y[4][-1]        \n",
    "        T_max = max(solution.y[4])\n",
    "        Cc_out = params['Cto'] * (Fc_out / F_out) * (To / T_out)\n",
    "        Xa = (Fao - Fa_out) / Fao\n",
    "        #S_cd = Fc_out / Fd_out\n",
    "        Yc = Fc_out / (Fao - Fa_out)        \n",
    "        sample_list.append([Fao, Fbo, P, To, Cto, m, Ta, T_max, Fa_out, Fb_out, Fc_out, Fd_out, Cc_out, Xa, Yc])        \n",
    "    data = np.asarray(sample_list)    \n",
    "    return data"
   ]
  },
  {
   "cell_type": "markdown",
   "metadata": {},
   "source": [
    "It is now possible to create a dataset for machine learning. 1500 samples are generated by calling `generate_data` for Mode 1 and Mode 2, then `generate_noise_data` to create noisy data between operating modes. The data is converted from a Numpy array into a Pandas DataFrame, and then saved to a CSV file so that results may be reproduced later, if necessary."
   ]
  },
  {
   "cell_type": "code",
   "execution_count": 16,
   "metadata": {},
   "outputs": [],
   "source": [
    "num_samples_1 = 900\n",
    "num_samples_2 = 450\n",
    "num_samples_3 = 150\n",
    "\n",
    "data_1 = generate_data(num_samples_1, base_dict_1, lim_dict_1, random_seed=0)\n",
    "data_2 = generate_data(num_samples_2, base_dict_2, lim_dict_2, random_seed=0)\n",
    "data_3 = generate_noise_data(num_samples_3, base_dict_1, base_dict_2, lim_dict_1, random_seed=0)"
   ]
  },
  {
   "cell_type": "code",
   "execution_count": 17,
   "metadata": {},
   "outputs": [
    {
     "name": "stdout",
     "output_type": "stream",
     "text": [
      "(1500, 15)\n"
     ]
    }
   ],
   "source": [
    "columns = ['Fao', 'Fbo', 'P', 'To', 'Cto', 'm', 'Ta', 'T_max', 'Fa_out', 'Fb_out', 'Fc_out', 'Fd_out', 'Cc_out', 'Xa', 'Yc']\n",
    "\n",
    "df_1 = pd.DataFrame(data=data_1, columns = columns)\n",
    "df_2 = pd.DataFrame(data=data_2, columns = columns)\n",
    "df_3 = pd.DataFrame(data=data_3, columns = columns)\n",
    "\n",
    "df = df_1.append(df_2)\n",
    "df = df.append(df_3)\n",
    "print(df.shape)"
   ]
  },
  {
   "cell_type": "code",
   "execution_count": 18,
   "metadata": {},
   "outputs": [],
   "source": [
    "# save dataframe to csv file so that results can be reproduced later\n",
    "df.to_csv('reactor_model_v5.csv')"
   ]
  },
  {
   "cell_type": "markdown",
   "metadata": {},
   "source": [
    "### 2.3 Exploring the Data\n",
    "\n",
    "A preview of the dataset is given below. The columns from `Fao` to `Ta` represent input values to the reactor model, and columns `T_max` to `Yc` are the output values."
   ]
  },
  {
   "cell_type": "code",
   "execution_count": 19,
   "metadata": {},
   "outputs": [
    {
     "data": {
      "text/html": [
       "<div>\n",
       "<style scoped>\n",
       "    .dataframe tbody tr th:only-of-type {\n",
       "        vertical-align: middle;\n",
       "    }\n",
       "\n",
       "    .dataframe tbody tr th {\n",
       "        vertical-align: top;\n",
       "    }\n",
       "\n",
       "    .dataframe thead th {\n",
       "        text-align: right;\n",
       "    }\n",
       "</style>\n",
       "<table border=\"1\" class=\"dataframe\">\n",
       "  <thead>\n",
       "    <tr style=\"text-align: right;\">\n",
       "      <th></th>\n",
       "      <th>Fao</th>\n",
       "      <th>Fbo</th>\n",
       "      <th>P</th>\n",
       "      <th>To</th>\n",
       "      <th>Cto</th>\n",
       "      <th>m</th>\n",
       "      <th>Ta</th>\n",
       "      <th>T_max</th>\n",
       "      <th>Fa_out</th>\n",
       "      <th>Fb_out</th>\n",
       "      <th>Fc_out</th>\n",
       "      <th>Fd_out</th>\n",
       "      <th>Cc_out</th>\n",
       "      <th>Xa</th>\n",
       "      <th>Yc</th>\n",
       "    </tr>\n",
       "  </thead>\n",
       "  <tbody>\n",
       "    <tr>\n",
       "      <th>0</th>\n",
       "      <td>5.882026</td>\n",
       "      <td>10.400157</td>\n",
       "      <td>5.401539</td>\n",
       "      <td>320.168039</td>\n",
       "      <td>0.205743</td>\n",
       "      <td>13.735116</td>\n",
       "      <td>315.471541</td>\n",
       "      <td>677.484905</td>\n",
       "      <td>0.086902</td>\n",
       "      <td>0.522703</td>\n",
       "      <td>3.654131</td>\n",
       "      <td>1.284596</td>\n",
       "      <td>0.075450</td>\n",
       "      <td>0.985226</td>\n",
       "      <td>0.630553</td>\n",
       "    </tr>\n",
       "    <tr>\n",
       "      <th>1</th>\n",
       "      <td>5.475044</td>\n",
       "      <td>9.848643</td>\n",
       "      <td>4.869216</td>\n",
       "      <td>303.695387</td>\n",
       "      <td>0.195527</td>\n",
       "      <td>10.288087</td>\n",
       "      <td>339.179167</td>\n",
       "      <td>667.541928</td>\n",
       "      <td>0.094176</td>\n",
       "      <td>0.523220</td>\n",
       "      <td>3.585476</td>\n",
       "      <td>1.077235</td>\n",
       "      <td>0.064267</td>\n",
       "      <td>0.982799</td>\n",
       "      <td>0.666338</td>\n",
       "    </tr>\n",
       "    <tr>\n",
       "      <th>2</th>\n",
       "      <td>5.380519</td>\n",
       "      <td>10.121675</td>\n",
       "      <td>5.138381</td>\n",
       "      <td>303.003069</td>\n",
       "      <td>0.206807</td>\n",
       "      <td>12.988158</td>\n",
       "      <td>322.999707</td>\n",
       "      <td>649.174802</td>\n",
       "      <td>0.090616</td>\n",
       "      <td>0.656290</td>\n",
       "      <td>3.896878</td>\n",
       "      <td>0.835815</td>\n",
       "      <td>0.077688</td>\n",
       "      <td>0.983158</td>\n",
       "      <td>0.736663</td>\n",
       "    </tr>\n",
       "    <tr>\n",
       "      <th>3</th>\n",
       "      <td>5.156534</td>\n",
       "      <td>9.145904</td>\n",
       "      <td>3.663929</td>\n",
       "      <td>305.882567</td>\n",
       "      <td>0.146076</td>\n",
       "      <td>11.728872</td>\n",
       "      <td>317.763891</td>\n",
       "      <td>404.957770</td>\n",
       "      <td>3.744916</td>\n",
       "      <td>6.322772</td>\n",
       "      <td>1.411489</td>\n",
       "      <td>0.000078</td>\n",
       "      <td>0.013567</td>\n",
       "      <td>0.273753</td>\n",
       "      <td>0.999908</td>\n",
       "    </tr>\n",
       "    <tr>\n",
       "      <th>4</th>\n",
       "      <td>6.134877</td>\n",
       "      <td>8.545634</td>\n",
       "      <td>4.942513</td>\n",
       "      <td>298.315345</td>\n",
       "      <td>0.202050</td>\n",
       "      <td>13.065558</td>\n",
       "      <td>339.326248</td>\n",
       "      <td>611.421496</td>\n",
       "      <td>0.606274</td>\n",
       "      <td>0.221884</td>\n",
       "      <td>2.111783</td>\n",
       "      <td>2.050092</td>\n",
       "      <td>0.043985</td>\n",
       "      <td>0.901176</td>\n",
       "      <td>0.381974</td>\n",
       "    </tr>\n",
       "  </tbody>\n",
       "</table>\n",
       "</div>"
      ],
      "text/plain": [
       "        Fao        Fbo         P          To       Cto          m          Ta  \\\n",
       "0  5.882026  10.400157  5.401539  320.168039  0.205743  13.735116  315.471541   \n",
       "1  5.475044   9.848643  4.869216  303.695387  0.195527  10.288087  339.179167   \n",
       "2  5.380519  10.121675  5.138381  303.003069  0.206807  12.988158  322.999707   \n",
       "3  5.156534   9.145904  3.663929  305.882567  0.146076  11.728872  317.763891   \n",
       "4  6.134877   8.545634  4.942513  298.315345  0.202050  13.065558  339.326248   \n",
       "\n",
       "        T_max    Fa_out    Fb_out    Fc_out    Fd_out    Cc_out        Xa  \\\n",
       "0  677.484905  0.086902  0.522703  3.654131  1.284596  0.075450  0.985226   \n",
       "1  667.541928  0.094176  0.523220  3.585476  1.077235  0.064267  0.982799   \n",
       "2  649.174802  0.090616  0.656290  3.896878  0.835815  0.077688  0.983158   \n",
       "3  404.957770  3.744916  6.322772  1.411489  0.000078  0.013567  0.273753   \n",
       "4  611.421496  0.606274  0.221884  2.111783  2.050092  0.043985  0.901176   \n",
       "\n",
       "         Yc  \n",
       "0  0.630553  \n",
       "1  0.666338  \n",
       "2  0.736663  \n",
       "3  0.999908  \n",
       "4  0.381974  "
      ]
     },
     "execution_count": 19,
     "metadata": {},
     "output_type": "execute_result"
    }
   ],
   "source": [
    "df.head()"
   ]
  },
  {
   "cell_type": "markdown",
   "metadata": {},
   "source": [
    "Using the `describe` Pandas function, it is possible to check the values that have been generated from the previous section."
   ]
  },
  {
   "cell_type": "code",
   "execution_count": 20,
   "metadata": {},
   "outputs": [
    {
     "data": {
      "text/html": [
       "<div>\n",
       "<style scoped>\n",
       "    .dataframe tbody tr th:only-of-type {\n",
       "        vertical-align: middle;\n",
       "    }\n",
       "\n",
       "    .dataframe tbody tr th {\n",
       "        vertical-align: top;\n",
       "    }\n",
       "\n",
       "    .dataframe thead th {\n",
       "        text-align: right;\n",
       "    }\n",
       "</style>\n",
       "<table border=\"1\" class=\"dataframe\">\n",
       "  <thead>\n",
       "    <tr style=\"text-align: right;\">\n",
       "      <th></th>\n",
       "      <th>count</th>\n",
       "      <th>mean</th>\n",
       "      <th>std</th>\n",
       "      <th>min</th>\n",
       "      <th>25%</th>\n",
       "      <th>50%</th>\n",
       "      <th>75%</th>\n",
       "      <th>max</th>\n",
       "    </tr>\n",
       "  </thead>\n",
       "  <tbody>\n",
       "    <tr>\n",
       "      <th>Fao</th>\n",
       "      <td>1500.000</td>\n",
       "      <td>4.284</td>\n",
       "      <td>0.986</td>\n",
       "      <td>2.551</td>\n",
       "      <td>3.131</td>\n",
       "      <td>4.541</td>\n",
       "      <td>5.077</td>\n",
       "      <td>6.340</td>\n",
       "    </tr>\n",
       "    <tr>\n",
       "      <th>Fbo</th>\n",
       "      <td>1500.000</td>\n",
       "      <td>7.877</td>\n",
       "      <td>2.861</td>\n",
       "      <td>3.391</td>\n",
       "      <td>4.185</td>\n",
       "      <td>9.113</td>\n",
       "      <td>10.181</td>\n",
       "      <td>12.980</td>\n",
       "    </tr>\n",
       "    <tr>\n",
       "      <th>P</th>\n",
       "      <td>1500.000</td>\n",
       "      <td>6.659</td>\n",
       "      <td>2.372</td>\n",
       "      <td>3.080</td>\n",
       "      <td>4.816</td>\n",
       "      <td>5.323</td>\n",
       "      <td>9.544</td>\n",
       "      <td>11.465</td>\n",
       "    </tr>\n",
       "    <tr>\n",
       "      <th>To</th>\n",
       "      <td>1500.000</td>\n",
       "      <td>370.042</td>\n",
       "      <td>92.274</td>\n",
       "      <td>276.462</td>\n",
       "      <td>298.439</td>\n",
       "      <td>308.415</td>\n",
       "      <td>493.808</td>\n",
       "      <td>519.052</td>\n",
       "    </tr>\n",
       "    <tr>\n",
       "      <th>Cto</th>\n",
       "      <td>1500.000</td>\n",
       "      <td>0.215</td>\n",
       "      <td>0.032</td>\n",
       "      <td>0.122</td>\n",
       "      <td>0.193</td>\n",
       "      <td>0.213</td>\n",
       "      <td>0.239</td>\n",
       "      <td>0.377</td>\n",
       "    </tr>\n",
       "    <tr>\n",
       "      <th>m</th>\n",
       "      <td>1500.000</td>\n",
       "      <td>8.280</td>\n",
       "      <td>2.786</td>\n",
       "      <td>3.670</td>\n",
       "      <td>5.386</td>\n",
       "      <td>8.465</td>\n",
       "      <td>10.427</td>\n",
       "      <td>17.603</td>\n",
       "    </tr>\n",
       "    <tr>\n",
       "      <th>Ta</th>\n",
       "      <td>1500.000</td>\n",
       "      <td>324.754</td>\n",
       "      <td>8.385</td>\n",
       "      <td>295.677</td>\n",
       "      <td>319.748</td>\n",
       "      <td>324.438</td>\n",
       "      <td>329.958</td>\n",
       "      <td>350.687</td>\n",
       "    </tr>\n",
       "    <tr>\n",
       "      <th>T_max</th>\n",
       "      <td>1500.000</td>\n",
       "      <td>661.452</td>\n",
       "      <td>62.543</td>\n",
       "      <td>338.814</td>\n",
       "      <td>631.025</td>\n",
       "      <td>659.177</td>\n",
       "      <td>685.330</td>\n",
       "      <td>932.613</td>\n",
       "    </tr>\n",
       "    <tr>\n",
       "      <th>Fa_out</th>\n",
       "      <td>1500.000</td>\n",
       "      <td>0.170</td>\n",
       "      <td>0.471</td>\n",
       "      <td>0.000</td>\n",
       "      <td>0.001</td>\n",
       "      <td>0.021</td>\n",
       "      <td>0.122</td>\n",
       "      <td>5.225</td>\n",
       "    </tr>\n",
       "    <tr>\n",
       "      <th>Fb_out</th>\n",
       "      <td>1500.000</td>\n",
       "      <td>0.883</td>\n",
       "      <td>1.086</td>\n",
       "      <td>0.002</td>\n",
       "      <td>0.082</td>\n",
       "      <td>0.607</td>\n",
       "      <td>1.260</td>\n",
       "      <td>9.690</td>\n",
       "    </tr>\n",
       "    <tr>\n",
       "      <th>Fc_out</th>\n",
       "      <td>1500.000</td>\n",
       "      <td>2.570</td>\n",
       "      <td>1.623</td>\n",
       "      <td>0.056</td>\n",
       "      <td>0.607</td>\n",
       "      <td>3.237</td>\n",
       "      <td>3.982</td>\n",
       "      <td>5.069</td>\n",
       "    </tr>\n",
       "    <tr>\n",
       "      <th>Fd_out</th>\n",
       "      <td>1500.000</td>\n",
       "      <td>0.927</td>\n",
       "      <td>0.619</td>\n",
       "      <td>0.000</td>\n",
       "      <td>0.325</td>\n",
       "      <td>0.927</td>\n",
       "      <td>1.480</td>\n",
       "      <td>2.668</td>\n",
       "    </tr>\n",
       "    <tr>\n",
       "      <th>Cc_out</th>\n",
       "      <td>1500.000</td>\n",
       "      <td>0.058</td>\n",
       "      <td>0.020</td>\n",
       "      <td>0.004</td>\n",
       "      <td>0.047</td>\n",
       "      <td>0.062</td>\n",
       "      <td>0.071</td>\n",
       "      <td>0.116</td>\n",
       "    </tr>\n",
       "    <tr>\n",
       "      <th>Xa</th>\n",
       "      <td>1500.000</td>\n",
       "      <td>0.966</td>\n",
       "      <td>0.092</td>\n",
       "      <td>0.101</td>\n",
       "      <td>0.974</td>\n",
       "      <td>0.995</td>\n",
       "      <td>1.000</td>\n",
       "      <td>1.000</td>\n",
       "    </tr>\n",
       "    <tr>\n",
       "      <th>Yc</th>\n",
       "      <td>1500.000</td>\n",
       "      <td>0.578</td>\n",
       "      <td>0.333</td>\n",
       "      <td>0.020</td>\n",
       "      <td>0.203</td>\n",
       "      <td>0.690</td>\n",
       "      <td>0.882</td>\n",
       "      <td>1.000</td>\n",
       "    </tr>\n",
       "  </tbody>\n",
       "</table>\n",
       "</div>"
      ],
      "text/plain": [
       "           count     mean     std      min      25%      50%      75%      max\n",
       "Fao     1500.000    4.284   0.986    2.551    3.131    4.541    5.077    6.340\n",
       "Fbo     1500.000    7.877   2.861    3.391    4.185    9.113   10.181   12.980\n",
       "P       1500.000    6.659   2.372    3.080    4.816    5.323    9.544   11.465\n",
       "To      1500.000  370.042  92.274  276.462  298.439  308.415  493.808  519.052\n",
       "Cto     1500.000    0.215   0.032    0.122    0.193    0.213    0.239    0.377\n",
       "m       1500.000    8.280   2.786    3.670    5.386    8.465   10.427   17.603\n",
       "Ta      1500.000  324.754   8.385  295.677  319.748  324.438  329.958  350.687\n",
       "T_max   1500.000  661.452  62.543  338.814  631.025  659.177  685.330  932.613\n",
       "Fa_out  1500.000    0.170   0.471    0.000    0.001    0.021    0.122    5.225\n",
       "Fb_out  1500.000    0.883   1.086    0.002    0.082    0.607    1.260    9.690\n",
       "Fc_out  1500.000    2.570   1.623    0.056    0.607    3.237    3.982    5.069\n",
       "Fd_out  1500.000    0.927   0.619    0.000    0.325    0.927    1.480    2.668\n",
       "Cc_out  1500.000    0.058   0.020    0.004    0.047    0.062    0.071    0.116\n",
       "Xa      1500.000    0.966   0.092    0.101    0.974    0.995    1.000    1.000\n",
       "Yc      1500.000    0.578   0.333    0.020    0.203    0.690    0.882    1.000"
      ]
     },
     "execution_count": 20,
     "metadata": {},
     "output_type": "execute_result"
    }
   ],
   "source": [
    "df.describe().transpose().apply(lambda s: s.apply('{0:.3f}'.format))"
   ]
  },
  {
   "cell_type": "markdown",
   "metadata": {},
   "source": [
    "The mean values for each operating mode are shown in the following table. As expected, the input values have a mean close to the value set previously in `base_dict_1` and `base_dict_2`."
   ]
  },
  {
   "cell_type": "code",
   "execution_count": 21,
   "metadata": {},
   "outputs": [
    {
     "data": {
      "text/html": [
       "<div>\n",
       "<style scoped>\n",
       "    .dataframe tbody tr th:only-of-type {\n",
       "        vertical-align: middle;\n",
       "    }\n",
       "\n",
       "    .dataframe tbody tr th {\n",
       "        vertical-align: top;\n",
       "    }\n",
       "\n",
       "    .dataframe thead th {\n",
       "        text-align: right;\n",
       "    }\n",
       "</style>\n",
       "<table border=\"1\" class=\"dataframe\">\n",
       "  <thead>\n",
       "    <tr style=\"text-align: right;\">\n",
       "      <th></th>\n",
       "      <th>Fao</th>\n",
       "      <th>Fbo</th>\n",
       "      <th>P</th>\n",
       "      <th>To</th>\n",
       "      <th>Cto</th>\n",
       "      <th>m</th>\n",
       "      <th>Ta</th>\n",
       "      <th>T_max</th>\n",
       "      <th>Fa_out</th>\n",
       "      <th>Fb_out</th>\n",
       "      <th>Fc_out</th>\n",
       "      <th>Fd_out</th>\n",
       "      <th>Cc_out</th>\n",
       "      <th>Xa</th>\n",
       "      <th>Yc</th>\n",
       "    </tr>\n",
       "    <tr>\n",
       "      <th>Mode</th>\n",
       "      <th></th>\n",
       "      <th></th>\n",
       "      <th></th>\n",
       "      <th></th>\n",
       "      <th></th>\n",
       "      <th></th>\n",
       "      <th></th>\n",
       "      <th></th>\n",
       "      <th></th>\n",
       "      <th></th>\n",
       "      <th></th>\n",
       "      <th></th>\n",
       "      <th></th>\n",
       "      <th></th>\n",
       "      <th></th>\n",
       "    </tr>\n",
       "  </thead>\n",
       "  <tbody>\n",
       "    <tr>\n",
       "      <th>1</th>\n",
       "      <td>4.972</td>\n",
       "      <td>9.965</td>\n",
       "      <td>4.893</td>\n",
       "      <td>300.373</td>\n",
       "      <td>0.199</td>\n",
       "      <td>10.055</td>\n",
       "      <td>324.789</td>\n",
       "      <td>643.695</td>\n",
       "      <td>0.247</td>\n",
       "      <td>1.303</td>\n",
       "      <td>3.740</td>\n",
       "      <td>0.591</td>\n",
       "      <td>0.065</td>\n",
       "      <td>0.952</td>\n",
       "      <td>0.804</td>\n",
       "    </tr>\n",
       "    <tr>\n",
       "      <th>2</th>\n",
       "      <td>2.993</td>\n",
       "      <td>3.984</td>\n",
       "      <td>9.963</td>\n",
       "      <td>500.483</td>\n",
       "      <td>0.243</td>\n",
       "      <td>5.016</td>\n",
       "      <td>324.899</td>\n",
       "      <td>661.397</td>\n",
       "      <td>0.024</td>\n",
       "      <td>0.062</td>\n",
       "      <td>0.449</td>\n",
       "      <td>1.512</td>\n",
       "      <td>0.042</td>\n",
       "      <td>0.992</td>\n",
       "      <td>0.153</td>\n",
       "    </tr>\n",
       "  </tbody>\n",
       "</table>\n",
       "</div>"
      ],
      "text/plain": [
       "        Fao    Fbo      P       To    Cto       m       Ta    T_max Fa_out  \\\n",
       "Mode                                                                         \n",
       "1     4.972  9.965  4.893  300.373  0.199  10.055  324.789  643.695  0.247   \n",
       "2     2.993  3.984  9.963  500.483  0.243   5.016  324.899  661.397  0.024   \n",
       "\n",
       "     Fb_out Fc_out Fd_out Cc_out     Xa     Yc  \n",
       "Mode                                            \n",
       "1     1.303  3.740  0.591  0.065  0.952  0.804  \n",
       "2     0.062  0.449  1.512  0.042  0.992  0.153  "
      ]
     },
     "execution_count": 21,
     "metadata": {},
     "output_type": "execute_result"
    }
   ],
   "source": [
    "df_1_mean = df_1.describe().loc['mean'].values\n",
    "df_2_mean = df_2.describe().loc['mean'].values\n",
    "means = np.array([df_1_mean, df_2_mean])\n",
    "\n",
    "df_means = pd.DataFrame(data=means, columns=df.columns.values).apply(lambda s: s.apply('{0:.3f}'.format))\n",
    "df_means['Mode'] = pd.Series([1, 2])\n",
    "df_means = df_means[['Mode', 'Fao', 'Fbo', 'P', 'To', 'Cto', 'm', 'Ta', 'T_max', 'Fa_out', 'Fb_out', 'Fc_out', 'Fd_out', 'Cc_out', 'Xa', 'Yc']]\n",
    "df_means.set_index('Mode', inplace=True)\n",
    "df_means"
   ]
  },
  {
   "cell_type": "markdown",
   "metadata": {},
   "source": [
    "As a quick check of how the input values are distributed, histograms for each column in `df` are plotted, showing a normal distribution for each."
   ]
  },
  {
   "cell_type": "code",
   "execution_count": 22,
   "metadata": {
    "scrolled": true
   },
   "outputs": [
    {
     "data": {
      "image/png": "[encoded data removed]",
      "text/plain": [
       "<Figure size 432x288 with 1 Axes>"
      ]
     },
     "metadata": {
      "needs_background": "light"
     },
     "output_type": "display_data"
    },
    {
     "data": {
      "image/png": "[encoded data removed]",
      "text/plain": [
       "<Figure size 432x288 with 1 Axes>"
      ]
     },
     "metadata": {
      "needs_background": "light"
     },
     "output_type": "display_data"
    },
    {
     "data": {
      "image/png": "[encoded data removed]",
      "text/plain": [
       "<Figure size 432x288 with 1 Axes>"
      ]
     },
     "metadata": {
      "needs_background": "light"
     },
     "output_type": "display_data"
    },
    {
     "data": {
      "image/png": "[encoded data removed]",
      "text/plain": [
       "<Figure size 432x288 with 1 Axes>"
      ]
     },
     "metadata": {
      "needs_background": "light"
     },
     "output_type": "display_data"
    },
    {
     "data": {
      "image/png": "[encoded data removed]",
      "text/plain": [
       "<Figure size 432x288 with 1 Axes>"
      ]
     },
     "metadata": {
      "needs_background": "light"
     },
     "output_type": "display_data"
    },
    {
     "data": {
      "image/png": "[encoded data removed]",
      "text/plain": [
       "<Figure size 432x288 with 1 Axes>"
      ]
     },
     "metadata": {
      "needs_background": "light"
     },
     "output_type": "display_data"
    },
    {
     "data": {
      "image/png": "[encoded data removed]",
      "text/plain": [
       "<Figure size 432x288 with 1 Axes>"
      ]
     },
     "metadata": {
      "needs_background": "light"
     },
     "output_type": "display_data"
    }
   ],
   "source": [
    "input_value_cols = ['Fao', 'Fbo', 'P', 'To', 'Cto', 'm', 'Ta']\n",
    "for i, col in enumerate(df[input_value_cols]):\n",
    "    plt.figure(i)\n",
    "    plt.hist(df_1[col], bins=50, color='b', label='Mode 1')\n",
    "    plt.hist(df_2[col], bins=50, color='orange', label='Mode 2')\n",
    "    plt.hist(df_3[col], bins=50, color='m', label='Noise')\n",
    "    plt.ylabel('Count')\n",
    "    plt.xlabel(col)\n",
    "    plt.legend()"
   ]
  },
  {
   "cell_type": "markdown",
   "metadata": {},
   "source": [
    "Histograms of the output values are also plotted:"
   ]
  },
  {
   "cell_type": "code",
   "execution_count": 23,
   "metadata": {
    "scrolled": true
   },
   "outputs": [
    {
     "data": {
      "image/png": "[encoded data removed]",
      "text/plain": [
       "<Figure size 432x288 with 1 Axes>"
      ]
     },
     "metadata": {
      "needs_background": "light"
     },
     "output_type": "display_data"
    },
    {
     "data": {
      "image/png": "[encoded data removed]",
      "text/plain": [
       "<Figure size 432x288 with 1 Axes>"
      ]
     },
     "metadata": {
      "needs_background": "light"
     },
     "output_type": "display_data"
    },
    {
     "data": {
      "image/png": "[encoded data removed]",
      "text/plain": [
       "<Figure size 432x288 with 1 Axes>"
      ]
     },
     "metadata": {
      "needs_background": "light"
     },
     "output_type": "display_data"
    },
    {
     "data": {
      "image/png": "[encoded data removed]",
      "text/plain": [
       "<Figure size 432x288 with 1 Axes>"
      ]
     },
     "metadata": {
      "needs_background": "light"
     },
     "output_type": "display_data"
    },
    {
     "data": {
      "image/png": "[encoded data removed]",
      "text/plain": [
       "<Figure size 432x288 with 1 Axes>"
      ]
     },
     "metadata": {
      "needs_background": "light"
     },
     "output_type": "display_data"
    },
    {
     "data": {
      "image/png": "[encoded data removed]",
      "text/plain": [
       "<Figure size 432x288 with 1 Axes>"
      ]
     },
     "metadata": {
      "needs_background": "light"
     },
     "output_type": "display_data"
    },
    {
     "data": {
      "image/png": "[encoded data removed]",
      "text/plain": [
       "<Figure size 432x288 with 1 Axes>"
      ]
     },
     "metadata": {
      "needs_background": "light"
     },
     "output_type": "display_data"
    },
    {
     "data": {
      "image/png": "[encoded data removed]",
      "text/plain": [
       "<Figure size 432x288 with 1 Axes>"
      ]
     },
     "metadata": {
      "needs_background": "light"
     },
     "output_type": "display_data"
    }
   ],
   "source": [
    "output_value_cols = ['T_max', 'Fa_out', 'Fb_out', 'Fc_out', 'Fd_out', 'Cc_out', 'Xa', 'Yc']\n",
    "for i, col in enumerate(df[output_value_cols]):\n",
    "    plt.figure(i)\n",
    "    plt.hist(df_1[col], bins=50, color='b', label='Mode 1')\n",
    "    plt.hist(df_2[col], bins=50, color='orange', label='Mode 2')\n",
    "    plt.hist(df_3[col], bins=50, color='m', label='Noise')\n",
    "    plt.ylabel('Count')\n",
    "    plt.xlabel(col)\n",
    "    plt.legend()"
   ]
  },
  {
   "cell_type": "markdown",
   "metadata": {},
   "source": [
    "A heatmap showing the correlation coefficients between the values provides more insight into their relationships with `Yc`:"
   ]
  },
  {
   "cell_type": "code",
   "execution_count": 24,
   "metadata": {},
   "outputs": [
    {
     "data": {
      "text/plain": [
       "<matplotlib.axes._subplots.AxesSubplot at 0x18f6dd2df08>"
      ]
     },
     "execution_count": 24,
     "metadata": {},
     "output_type": "execute_result"
    },
    {
     "data": {
      "image/png": "[encoded data removed]",
      "text/plain": [
       "<Figure size 1008x504 with 2 Axes>"
      ]
     },
     "metadata": {
      "needs_background": "light"
     },
     "output_type": "display_data"
    }
   ],
   "source": [
    "corr = df.corr()\n",
    "mask = np.triu(corr)\n",
    "\n",
    "plt.figure(figsize=(14,7))\n",
    "sns.heatmap(df.corr(), annot = True, cmap='plasma', mask=mask, square=False)"
   ]
  },
  {
   "cell_type": "markdown",
   "metadata": {},
   "source": [
    "The following observations made from the heatmap are consistent with what is expected from the reactor model, based on the theory behind chemical reactor engineering:\n",
    "\n",
    "* As `Fao` increases, `Yc` increases. Normally the opposite is expected since from the definition of yield (see Section 2.1) as the amount of A in the feed increases, the yield of C decreases. However in this case there is a large difference between Mode 1 and 2, and higher values of `Fao` in Mode 1 correspond with higher values of `Yc`.\n",
    "\n",
    "* As `Fbo` increases, `Yc` increases. This is consistent with the definition of instantaneous yield, given as: $ \\tilde{Y}_{C} = \\frac{k_{1A}}{k_{2C}}\\frac{C_{B}^2}{C_{A}C_{C}^3} $ (see pg. 286 in [1] for an explanation of how to derive the instantaneous yield for a given set of reactions).\n",
    "\n",
    "* As `P` increases, `Yc` decreases. As the pressure increases, the concentration of chemicals increases, as shown by the strong correlation between `P` and `Cto`. A high concentration of A lowers the yield. Mode 2 has a higher pressure than Mode 1, and so Mode 2 has a lower yield as a result.\n",
    "\n",
    "* As `To` increases, `Yc` decreases. Since the activation energy of the undesired reaction (`E2`) is higher than for the desired reaction (`E1`) operating at too high a temperature as in Mode 2 will favor the undesired reaction, decreasing the yield.\n",
    "\n",
    "* As `m` increases, `Yc` increases. Mode 1 has higher cooling water flow rates than Mode 2, so the reaction temeprature is lower resulting in an increased yield compared to Mode 2.\n",
    "\n",
    "With a dataset available that appears to well represent the relationship between the input values to the reactor and the yield, the machine learning problem can now be defined in more detail."
   ]
  },
  {
   "cell_type": "markdown",
   "metadata": {},
   "source": [
    "## 3. Machine Learning Problem Definition\n",
    "\n",
    "Predicting the overall yield of product C is a regression problem. The features provided for the machine learning model to learn patterns from during training will be the input values to the reactor model: `Fao`, `Fbo`, `P`, `To`, `Cto`, `m`, and `Ta`. The target variable to predict is `Yc`.\n",
    "\n",
    "More features from the set of output values are not used, despite having relatively strong correlation coefficients, since the objective of this project is to show how the performance of a reactor can be predicted based purely on process conditions related to what is input to the reactor. If knowledge of the output values is also known, such as the flowrates, then it is possible to calculate the yield directly, without the need for a machine learning model. \n",
    "\n",
    "In a practical application, calculating the yield directly would require periodic sampling of the reactor products. The advantage of a machine learning approach would be that once enough sampling has been performed to establish a dataset suitable for a model to be trained on, the model could be used to make real time predictions for the product yield without having to take any samples."
   ]
  },
  {
   "cell_type": "markdown",
   "metadata": {},
   "source": [
    "## 4. Model Evaluation Protocol\n",
    "\n",
    "Machine learning model performance will be evaluated based on a 60/40 train/test split of the data, using the Mean Absolute Error (MAE) metric, which is defined as:\n",
    "\n",
    "$ MAE = \\frac{\\sum |predicted \\space value - true \\space value|}{number \\space of \\space samples} $"
   ]
  },
  {
   "cell_type": "markdown",
   "metadata": {},
   "source": [
    "## 5. Data Preparation\n",
    "\n",
    "The data is prepared for use in a machine learning model by saving the features to variable `X` and the target to `y`, then performing the train/test split."
   ]
  },
  {
   "cell_type": "code",
   "execution_count": 25,
   "metadata": {},
   "outputs": [],
   "source": [
    "X = df[input_value_cols]\n",
    "y = df['Yc']"
   ]
  },
  {
   "cell_type": "code",
   "execution_count": 26,
   "metadata": {},
   "outputs": [],
   "source": [
    "from sklearn.model_selection import train_test_split\n",
    "\n",
    "X_train, X_test, y_train, y_test = train_test_split(X, y, test_size=0.4, random_state=42)"
   ]
  },
  {
   "cell_type": "markdown",
   "metadata": {},
   "source": [
    "## 6. Baseline Machine Learning Model\n",
    "\n",
    "To start developing a machine learning model, a simple model is first created to set a baseline for performance. A Decision Tree model is created as its results are more interpretable than more sophisticated models. "
   ]
  },
  {
   "cell_type": "code",
   "execution_count": 27,
   "metadata": {},
   "outputs": [
    {
     "data": {
      "text/plain": [
       "DecisionTreeRegressor(ccp_alpha=0.0, criterion='mae', max_depth=4,\n",
       "                      max_features=None, max_leaf_nodes=None,\n",
       "                      min_impurity_decrease=0.0, min_impurity_split=None,\n",
       "                      min_samples_leaf=1, min_samples_split=2,\n",
       "                      min_weight_fraction_leaf=0.0, presort='deprecated',\n",
       "                      random_state=10, splitter='best')"
      ]
     },
     "execution_count": 27,
     "metadata": {},
     "output_type": "execute_result"
    }
   ],
   "source": [
    "from sklearn.tree import DecisionTreeRegressor, plot_tree\n",
    "\n",
    "tree = DecisionTreeRegressor(max_depth=4, criterion='mae', random_state=10)\n",
    "\n",
    "tree.fit(X_train, y_train)"
   ]
  },
  {
   "cell_type": "code",
   "execution_count": 28,
   "metadata": {},
   "outputs": [],
   "source": [
    "tree_pred = tree.predict(X_test)"
   ]
  },
  {
   "cell_type": "markdown",
   "metadata": {},
   "source": [
    "The MAE for the Decision Tree model is calculated with the following code:"
   ]
  },
  {
   "cell_type": "code",
   "execution_count": 29,
   "metadata": {},
   "outputs": [
    {
     "name": "stdout",
     "output_type": "stream",
     "text": [
      "MAE for Decision Tree:  0.067\n"
     ]
    }
   ],
   "source": [
    "from sklearn.metrics import mean_absolute_error\n",
    "\n",
    "tree_mae = mean_absolute_error(y_test, tree_pred)\n",
    "print('MAE for Decision Tree: ', round(tree_mae, 3))"
   ]
  },
  {
   "cell_type": "markdown",
   "metadata": {},
   "source": [
    "A visualization of the Decision Tree is provided in the following figure. Decision Trees predict values by learning a set of \"decision paths\" based on the patterns present in the dataset. In this case, the decisions are made in a way that reduces the MAE between the predicted value and the true value (in the training set) at each split, as shown in the figure. To interpret the tree, one considers a series of yes/no decisions (if yes move to the left, no to the right), following the tree downwards until the final level is reached. The final level represents the predicted value, or the output of the model."
   ]
  },
  {
   "cell_type": "code",
   "execution_count": 30,
   "metadata": {},
   "outputs": [
    {
     "data": {
      "image/png": "[encoded data removed]",
      "text/plain": [
       "<Figure size 1584x576 with 1 Axes>"
      ]
     },
     "metadata": {
      "needs_background": "light"
     },
     "output_type": "display_data"
    }
   ],
   "source": [
    "plt.figure(figsize=(22,8))\n",
    "plot_tree(tree, fontsize=10, feature_names=input_value_cols);"
   ]
  },
  {
   "cell_type": "markdown",
   "metadata": {},
   "source": [
    "The following table shows the importance of each feature in the Decision Tree. The feature importances are a representation of how significant each feature is in reducing the MAE each time a decision, or split, in the tree is made. In other words the feature importance is a measure of how much that feature factors into making a decision."
   ]
  },
  {
   "cell_type": "code",
   "execution_count": 31,
   "metadata": {},
   "outputs": [
    {
     "data": {
      "text/html": [
       "<div>\n",
       "<style scoped>\n",
       "    .dataframe tbody tr th:only-of-type {\n",
       "        vertical-align: middle;\n",
       "    }\n",
       "\n",
       "    .dataframe tbody tr th {\n",
       "        vertical-align: top;\n",
       "    }\n",
       "\n",
       "    .dataframe thead th {\n",
       "        text-align: right;\n",
       "    }\n",
       "</style>\n",
       "<table border=\"1\" class=\"dataframe\">\n",
       "  <thead>\n",
       "    <tr style=\"text-align: right;\">\n",
       "      <th></th>\n",
       "      <th>Importance</th>\n",
       "    </tr>\n",
       "    <tr>\n",
       "      <th>Feature</th>\n",
       "      <th></th>\n",
       "    </tr>\n",
       "  </thead>\n",
       "  <tbody>\n",
       "    <tr>\n",
       "      <th>Fao</th>\n",
       "      <td>0.095</td>\n",
       "    </tr>\n",
       "    <tr>\n",
       "      <th>Fbo</th>\n",
       "      <td>0.905</td>\n",
       "    </tr>\n",
       "    <tr>\n",
       "      <th>P</th>\n",
       "      <td>0.000</td>\n",
       "    </tr>\n",
       "    <tr>\n",
       "      <th>To</th>\n",
       "      <td>0.000</td>\n",
       "    </tr>\n",
       "    <tr>\n",
       "      <th>Cto</th>\n",
       "      <td>0.000</td>\n",
       "    </tr>\n",
       "    <tr>\n",
       "      <th>m</th>\n",
       "      <td>0.000</td>\n",
       "    </tr>\n",
       "    <tr>\n",
       "      <th>Ta</th>\n",
       "      <td>0.000</td>\n",
       "    </tr>\n",
       "  </tbody>\n",
       "</table>\n",
       "</div>"
      ],
      "text/plain": [
       "        Importance\n",
       "Feature           \n",
       "Fao          0.095\n",
       "Fbo          0.905\n",
       "P            0.000\n",
       "To           0.000\n",
       "Cto          0.000\n",
       "m            0.000\n",
       "Ta           0.000"
      ]
     },
     "execution_count": 31,
     "metadata": {},
     "output_type": "execute_result"
    }
   ],
   "source": [
    "tree_dict = {'Feature':np.asarray(input_value_cols), 'Importance':tree.feature_importances_}\n",
    "\n",
    "imp_df = pd.DataFrame(tree_dict, index=None)\n",
    "imp_df.set_index('Feature', inplace=True)\n",
    "imp_df.apply(lambda s: s.apply('{0:.3f}'.format))"
   ]
  },
  {
   "cell_type": "markdown",
   "metadata": {},
   "source": [
    "## 7. Improving Model Performance\n",
    "\n",
    "To improve performance over the Decision Tree model, a Random Forest model is created. Random Forest models are developed by creating many decision trees, using a random sample of data from the training set for each tree. When a decision (or split) in a tree is made, a random subset of all available features is made, meaning that a split will not consider all of the available features. The predictions from all the trees are averaged to generate the final prediction. By creating two sources of randomness (the data used for training and the features used to determine the splits) errors from the individual trees cancel out and the overall variance in the model predictions is reduced, meaning that the model will have higher performance (a lower MAE) on the test dataset."
   ]
  },
  {
   "cell_type": "code",
   "execution_count": 32,
   "metadata": {},
   "outputs": [
    {
     "data": {
      "text/plain": [
       "RandomForestRegressor(bootstrap=True, ccp_alpha=0.0, criterion='mae',\n",
       "                      max_depth=None, max_features='auto', max_leaf_nodes=None,\n",
       "                      max_samples=None, min_impurity_decrease=0.0,\n",
       "                      min_impurity_split=None, min_samples_leaf=1,\n",
       "                      min_samples_split=2, min_weight_fraction_leaf=0.0,\n",
       "                      n_estimators=100, n_jobs=None, oob_score=False,\n",
       "                      random_state=10, verbose=0, warm_start=False)"
      ]
     },
     "execution_count": 32,
     "metadata": {},
     "output_type": "execute_result"
    }
   ],
   "source": [
    "from sklearn.ensemble import RandomForestRegressor\n",
    "\n",
    "rfm = RandomForestRegressor(random_state=10, criterion='mae')\n",
    "rfm.fit(X_train, y_train)"
   ]
  },
  {
   "cell_type": "code",
   "execution_count": 33,
   "metadata": {},
   "outputs": [],
   "source": [
    "rfm_pred = rfm.predict(X_test)"
   ]
  },
  {
   "cell_type": "markdown",
   "metadata": {},
   "source": [
    "The MAE for the Random Forest model is calculated with the following code, and there is an absolute improvement of 0.038 or 61% over the Decision Tree model.\n",
    "\n",
    "It is possible to perform cross validation and hyperparameter tuning to decrease the MAE of the Random Forest further, however since the data for this problem has been \"faked\" it is the authors opinion that these efforts would not provide much practical value. The MAE achieved for the dataset used here may represent a high level of model performance, however for real data it is possible that the MAE will be higher even with model performance maximized, making comparisons difficult."
   ]
  },
  {
   "cell_type": "code",
   "execution_count": 34,
   "metadata": {},
   "outputs": [
    {
     "name": "stdout",
     "output_type": "stream",
     "text": [
      "MAE for Random Forest:  0.029\n"
     ]
    }
   ],
   "source": [
    "rfm_mae = mean_absolute_error(y_test, rfm_pred)\n",
    "print('MAE for Random Forest: ', round(rfm_mae, 3))"
   ]
  },
  {
   "cell_type": "markdown",
   "metadata": {},
   "source": [
    "The feature importances for the Random Forest model are shown in the following table, along with those from the Decision Tree model. The Random Forest uses all features to some extent, but `Fao`, `Fbo` and `P` remain the most important features to the model in predicting `Yc`."
   ]
  },
  {
   "cell_type": "code",
   "execution_count": 35,
   "metadata": {},
   "outputs": [
    {
     "data": {
      "text/html": [
       "<div>\n",
       "<style scoped>\n",
       "    .dataframe tbody tr th:only-of-type {\n",
       "        vertical-align: middle;\n",
       "    }\n",
       "\n",
       "    .dataframe tbody tr th {\n",
       "        vertical-align: top;\n",
       "    }\n",
       "\n",
       "    .dataframe thead th {\n",
       "        text-align: right;\n",
       "    }\n",
       "</style>\n",
       "<table border=\"1\" class=\"dataframe\">\n",
       "  <thead>\n",
       "    <tr style=\"text-align: right;\">\n",
       "      <th></th>\n",
       "      <th>Decision Tree Importance</th>\n",
       "      <th>Random Forest Importance</th>\n",
       "    </tr>\n",
       "    <tr>\n",
       "      <th>Feature</th>\n",
       "      <th></th>\n",
       "      <th></th>\n",
       "    </tr>\n",
       "  </thead>\n",
       "  <tbody>\n",
       "    <tr>\n",
       "      <th>Fao</th>\n",
       "      <td>0.095</td>\n",
       "      <td>0.141</td>\n",
       "    </tr>\n",
       "    <tr>\n",
       "      <th>Fbo</th>\n",
       "      <td>0.905</td>\n",
       "      <td>0.775</td>\n",
       "    </tr>\n",
       "    <tr>\n",
       "      <th>P</th>\n",
       "      <td>0.000</td>\n",
       "      <td>0.030</td>\n",
       "    </tr>\n",
       "    <tr>\n",
       "      <th>To</th>\n",
       "      <td>0.000</td>\n",
       "      <td>0.013</td>\n",
       "    </tr>\n",
       "    <tr>\n",
       "      <th>Cto</th>\n",
       "      <td>0.000</td>\n",
       "      <td>0.016</td>\n",
       "    </tr>\n",
       "    <tr>\n",
       "      <th>m</th>\n",
       "      <td>0.000</td>\n",
       "      <td>0.013</td>\n",
       "    </tr>\n",
       "    <tr>\n",
       "      <th>Ta</th>\n",
       "      <td>0.000</td>\n",
       "      <td>0.012</td>\n",
       "    </tr>\n",
       "  </tbody>\n",
       "</table>\n",
       "</div>"
      ],
      "text/plain": [
       "        Decision Tree Importance Random Forest Importance\n",
       "Feature                                                  \n",
       "Fao                        0.095                    0.141\n",
       "Fbo                        0.905                    0.775\n",
       "P                          0.000                    0.030\n",
       "To                         0.000                    0.013\n",
       "Cto                        0.000                    0.016\n",
       "m                          0.000                    0.013\n",
       "Ta                         0.000                    0.012"
      ]
     },
     "execution_count": 35,
     "metadata": {},
     "output_type": "execute_result"
    }
   ],
   "source": [
    "rf_dict = {'Feature':np.asarray(input_value_cols), 'Decision Tree Importance':tree.feature_importances_, 'Random Forest Importance':rfm.feature_importances_}\n",
    "\n",
    "rfimp_df = pd.DataFrame(rf_dict, index=None)\n",
    "rfimp_df.set_index('Feature', inplace=True)\n",
    "rfimp_df.apply(lambda s: s.apply('{0:.3f}'.format))"
   ]
  },
  {
   "cell_type": "markdown",
   "metadata": {},
   "source": [
    "## 8. Using the Machine Learning Model in Practice\n",
    "\n",
    "Development of a machine learning model that can predict the overall yield of product C (`Yc`) based on the reactor input process conditions means that it is possible to create a system that can raise a warning when the yield drops below a target value during actual operation. Since Mode 1 is the desired mode of operation to maintain, the system will use the corresponding mean yield value as a target.\n",
    "\n",
    "To demonstrate the concept of a low yield \"warning system\", data is gathered to serve as sample values that mimic what would be available from an actual operating reactor. The following code takes these steps:\n",
    "\n",
    "1. Save the target yield value `base_Yc` (the mean value of the data generated for Mode 1 in Section 2.3) \n",
    "2. Save the corresponding mean input process conditions to `base_input_values` \n",
    "3. Take a subsample of the first five feature/target pairs `X_prac`/`y_prac` from the test dataset (created in Section 5). `X_prac` simulates the current input process conditions to the reactor, and `y_prac` represents the corresponding true yield values."
   ]
  },
  {
   "cell_type": "code",
   "execution_count": 36,
   "metadata": {},
   "outputs": [
    {
     "name": "stdout",
     "output_type": "stream",
     "text": [
      "Baseline Yc:  0.804\n",
      "Sample Values of Yc: [0.159 0.95  0.825 0.558 0.783]\n"
     ]
    }
   ],
   "source": [
    "# Yield value from Mode 1\n",
    "base_Yc = df_1.mean()['Yc']\n",
    "\n",
    "base_input_values = df_1.mean()[input_value_cols].values\n",
    "\n",
    "X_prac = X_test[:5]\n",
    "y_prac = y_test[:5]\n",
    "\n",
    "print('Baseline Yc: ', round(base_Yc, 3))\n",
    "print('Sample Values of Yc:', y_prac.round(3).values)"
   ]
  },
  {
   "cell_type": "markdown",
   "metadata": {},
   "source": [
    "The MAE of the machine learning model developed in the previous section an be mitigated by setting a threshold value that must be exceeded before a warning is raised. For example, a yield value predicted by the machine learning model that is within the range of $ target \\space value \\pm threshold $ will not raise a warning. For simplicity, the threshold is set to be the MAE of the model, rounded up to two decimal places."
   ]
  },
  {
   "cell_type": "code",
   "execution_count": 37,
   "metadata": {},
   "outputs": [
    {
     "name": "stdout",
     "output_type": "stream",
     "text": [
      "Warning Threshold:  0.03\n"
     ]
    }
   ],
   "source": [
    "threshold = round(rfm_mae, 2)\n",
    "print('Warning Threshold: ', threshold)"
   ]
  },
  {
   "cell_type": "markdown",
   "metadata": {},
   "source": [
    "The first and fourth sample values are outside of the threshold, so the machine learning model should predict that these values are below target and the system should raise a warning (The fifth value, 0.783, is greater than 0.804-0.03=0.774 so a warning is not raised).\n",
    "\n",
    "The function `alert_low_yield` provides an example of how a low yield \"warning system\" could be created. The function takes the following arguments:\n",
    "* `base_Yc`, the target yield \n",
    "* `base_input_values`, baseline values for the input process conditions corresponding to the desired mode of operation\n",
    "* `input_value_cols`, a list of labels for the input process conditions \n",
    "* `data`, a single row of input process conditions that will be checked for low yield \n",
    "* `model`, a machine learning model that predicts the yield based on `data`\n",
    "* `threshold`, the range of acceptable yield values\n",
    "* `output`, an argument to show or hide output, defaults to True\n",
    "\n",
    "`alert_low_yield` uses a machine learning model to make a prediction for the yield, based on `data`, and if the yield is less than `base_Yc`, provides a warning along with a comparison of the current reactor conditions and the baseline conditions, to show what is causing the low yield. The \"Delta\" values are calculated as the current values minus the baseline values, so that positive values indicate conditions above baseline, and negative below baseline."
   ]
  },
  {
   "cell_type": "code",
   "execution_count": 38,
   "metadata": {},
   "outputs": [],
   "source": [
    "def alert_low_yield(base_Yc, base_input_values, input_value_cols, data, model, threshold, output=True):\n",
    "    \n",
    "    predict_Yc = model.predict(data.reshape(1, -1))\n",
    "    difference = abs(predict_Yc - base_Yc)\n",
    "    \n",
    "    alert = False\n",
    "    \n",
    "    if (predict_Yc < base_Yc) and (difference > threshold):\n",
    "        \n",
    "        alert = True\n",
    "        delta = data - base_input_values\n",
    "        results = {'Variable':input_value_cols, \n",
    "                   'Baseline Value':base_input_values, \n",
    "                   'Current Value': data, \n",
    "                   'Delta':delta}\n",
    "        df_results = pd.DataFrame(results)\n",
    "        df_results.set_index('Variable', inplace=True)\n",
    "\n",
    "        if output:\n",
    "            print('Warning: Yield below target!')\n",
    "            print('Target Yc: ', round(base_Yc, 3))\n",
    "            print('Current Yc: ', round(float(predict_Yc), 3))\n",
    "        \n",
    "            print('\\nCurrent Reactor Input Conditions:')\n",
    "            print(df_results.apply(lambda s: s.apply('{0:.3f}'.format)))\n",
    "\n",
    "    else:\n",
    "        if output:\n",
    "            print('Yield greater than or equal to target.')\n",
    "            print('Target Yc: ', round(base_Yc, 3))\n",
    "            print('Current Yc: ', round(float(predict_Yc), 3))\n",
    "            \n",
    "    return alert"
   ]
  },
  {
   "cell_type": "markdown",
   "metadata": {},
   "source": [
    "The following code executes `alert_low_yield` by stepping through each of the five rows in `X_prac`:"
   ]
  },
  {
   "cell_type": "code",
   "execution_count": 39,
   "metadata": {},
   "outputs": [
    {
     "name": "stdout",
     "output_type": "stream",
     "text": [
      "----------------------------------------------\n",
      "Step  1\n",
      "Warning: Yield below target!\n",
      "Target Yc:  0.804\n",
      "Current Yc:  0.145\n",
      "\n",
      "Current Reactor Input Conditions:\n",
      "         Baseline Value Current Value    Delta\n",
      "Variable                                      \n",
      "Fao               4.972         3.031   -1.941\n",
      "Fbo               9.965         4.062   -5.904\n",
      "P                 4.893        10.080    5.186\n",
      "To              300.373       485.311  184.938\n",
      "Cto               0.199         0.253    0.054\n",
      "m                10.055         4.277   -5.778\n",
      "Ta              324.789       322.795   -1.994\n",
      "----------------------------------------------\n",
      "Step  2\n",
      "Yield greater than or equal to target.\n",
      "Target Yc:  0.804\n",
      "Current Yc:  0.933\n",
      "----------------------------------------------\n",
      "Step  3\n",
      "Yield greater than or equal to target.\n",
      "Target Yc:  0.804\n",
      "Current Yc:  0.797\n",
      "----------------------------------------------\n",
      "Step  4\n",
      "Warning: Yield below target!\n",
      "Target Yc:  0.804\n",
      "Current Yc:  0.569\n",
      "\n",
      "Current Reactor Input Conditions:\n",
      "         Baseline Value Current Value   Delta\n",
      "Variable                                     \n",
      "Fao               4.972         5.399   0.427\n",
      "Fbo               9.965         9.113  -0.852\n",
      "P                 4.893         5.232   0.339\n",
      "To              300.373       314.663  14.291\n",
      "Cto               0.199         0.203   0.004\n",
      "m                10.055        10.278   0.223\n",
      "Ta              324.789       316.638  -8.151\n",
      "----------------------------------------------\n",
      "Step  5\n",
      "Yield greater than or equal to target.\n",
      "Target Yc:  0.804\n",
      "Current Yc:  0.822\n"
     ]
    }
   ],
   "source": [
    "for i in range(0, len(X_prac)):\n",
    "    print('----------------------------------------------')\n",
    "    print('Step ', i+1)\n",
    "    alert_low_yield(base_Yc, \n",
    "                    base_input_values,  \n",
    "                    input_value_cols, \n",
    "                    data=X_prac.values[i], \n",
    "                    model=rfm, \n",
    "                    threshold=threshold, \n",
    "                    output=True)"
   ]
  },
  {
   "cell_type": "markdown",
   "metadata": {},
   "source": [
    "The results show that the warning system correctly identifies the first, second, and fourth sample values as having low yield. Analysis of the Delta values show that it does not take a large change in `Fao`, `Fbo` or `P` to cause the yield to drop below baseline, while larger changes in `To`, `m`, and `Ta` are required to decrease the yield below baseline. \n",
    "\n",
    "The relative changes in the input conditions necessary to cause the yield to drop below baseline can be explained by reviewing the data analysis from Section 2.3 and the details of the Random Forest model developed in Section 7. `Fao`, `Fbo`, and `P` have larger correlation coefficients compared to `To`, `m`, and `Ta`, meaning that they have a larger effect on the yield. `Fao`, `Fbo`, and `P` have the highest feature importances, so small Delta values result in `Yc` decreasing below baseline. `To`, `m`, and `Ta` have relatively smaller importances, so larger Deltas are required to decrease `Yc` below baseline. A practical interpretation of these results is that the reactor is more robust to changes in `To`, `m`, and `Ta`, while it is more necessary to maintain tight control on `Fao`, `Fbo`, and `P`.\n",
    "\n",
    "The Delta values for `Cto` are very small in relation to `To`, `m`, and `Ta`. It is also known from Section 2.3 that `Cto` is strongly corellated with `P`, meaning that they express similar information in relation to `Yc`. The Random Forest model places a higher feature importance on `P` than `Cto`. Given these observations, it is likely safe to remove `Cto` from the list of reactor input conditions used in the warning system."
   ]
  },
  {
   "cell_type": "markdown",
   "metadata": {},
   "source": [
    "Next, the performance of the warning system on the complete test set is evaluated. The number of times that the yield values are below target is calculated:"
   ]
  },
  {
   "cell_type": "code",
   "execution_count": 40,
   "metadata": {},
   "outputs": [
    {
     "name": "stdout",
     "output_type": "stream",
     "text": [
      "Number of times that Yc is below target:  376\n"
     ]
    }
   ],
   "source": [
    "count_below = len(y_test[(y_test < base_Yc)])\n",
    "print('Number of times that Yc is below target: ', count_below)"
   ]
  },
  {
   "cell_type": "markdown",
   "metadata": {},
   "source": [
    "The complete test set is stepped through in a similar manner as before. The number of warnings issued is counted with and without the use of a threshold, to determine its effectiveness in mitigating the error of the machine learning model. The percentage of correctly issued warnings is then calculated (number of warnings / actual number of times `Yc` is below target in test set)"
   ]
  },
  {
   "cell_type": "code",
   "execution_count": 41,
   "metadata": {},
   "outputs": [
    {
     "name": "stdout",
     "output_type": "stream",
     "text": [
      "Percentage of correct warnings issued on test set, with a threshold:  99.2\n",
      "Percentage of correct warnings issued on test set, with NO threshold:  105.32\n"
     ]
    }
   ],
   "source": [
    "alerts_threshold = []\n",
    "\n",
    "for i in range(0, len(X_test)):\n",
    "    alert = alert_low_yield(base_Yc, \n",
    "                            base_input_values,  \n",
    "                            input_value_cols, \n",
    "                            data=X_test.values[i], \n",
    "                            model=rfm, \n",
    "                            threshold=threshold, \n",
    "                            output=False)\n",
    "    alerts_threshold.append(alert)\n",
    "    \n",
    "alerts_no_threshold = []\n",
    "\n",
    "for i in range(0, len(X_test)):\n",
    "    alert = alert_low_yield(base_Yc, \n",
    "                            base_input_values,  \n",
    "                            input_value_cols, \n",
    "                            data=X_test.values[i], \n",
    "                            model=rfm, \n",
    "                            threshold=0, \n",
    "                            output=False)\n",
    "    alerts_no_threshold.append(alert)\n",
    "    \n",
    "count_alerts_threshold = sum(alerts_threshold)\n",
    "count_alerts_no_threshold = sum(alerts_no_threshold)\n",
    "    \n",
    "print('Percentage of correct warnings issued on test set, with a threshold: ', round(count_alerts_threshold / count_below * 100, 2))\n",
    "print('Percentage of correct warnings issued on test set, with NO threshold: ', round(count_alerts_no_threshold / count_below * 100, 2))"
   ]
  },
  {
   "cell_type": "markdown",
   "metadata": {},
   "source": [
    "The results indicate that using a threshold allows the warning system to have near perfect accuracy in issuing warnings. Not using a threshold causes the warning system to falsely raise warnings, since the number of warnings issued is greater than the number of times the yield is below target in the test set. The performance of the warning system is higher when a threshold is used, so in this case it is an effective means of mitigating the error from the machine learning model."
   ]
  },
  {
   "cell_type": "markdown",
   "metadata": {},
   "source": [
    "## 9. Inferring the Reactor Performance Without Yield Data\n",
    "\n",
    "What if there are no values available for `Yc`, and it is not possible to collect samples of the reactor products? How could the yield `Yc` be inferred from the data? In this section, it will be shown how unsupervised learning can be used to infer what the reactor performance is without having values for the yield. \n",
    "\n",
    "In the previous section, yield values were available and were the target variable to predict, so supervised learning was used. With unsupervised learning, there is no target variable to predict, rather the goal is to cluster data into groups, which can reveal common patterns in the data. Since it is known that the reactor has two operating modes, it is hypothesized that there are two clusters of data, each having similar values for the input process variables that correspond to high and low values of `Yc`.\n",
    "\n",
    "To start, data for the input process variables only is saved into a new unsupervised learning dataset (`df_u`). Note the dataset is identical to what was used to train the machine learning model, except that the `Yc` column is missing."
   ]
  },
  {
   "cell_type": "code",
   "execution_count": 42,
   "metadata": {},
   "outputs": [
    {
     "data": {
      "text/html": [
       "<div>\n",
       "<style scoped>\n",
       "    .dataframe tbody tr th:only-of-type {\n",
       "        vertical-align: middle;\n",
       "    }\n",
       "\n",
       "    .dataframe tbody tr th {\n",
       "        vertical-align: top;\n",
       "    }\n",
       "\n",
       "    .dataframe thead th {\n",
       "        text-align: right;\n",
       "    }\n",
       "</style>\n",
       "<table border=\"1\" class=\"dataframe\">\n",
       "  <thead>\n",
       "    <tr style=\"text-align: right;\">\n",
       "      <th></th>\n",
       "      <th>Fao</th>\n",
       "      <th>Fbo</th>\n",
       "      <th>P</th>\n",
       "      <th>To</th>\n",
       "      <th>Cto</th>\n",
       "      <th>m</th>\n",
       "      <th>Ta</th>\n",
       "    </tr>\n",
       "  </thead>\n",
       "  <tbody>\n",
       "    <tr>\n",
       "      <th>0</th>\n",
       "      <td>5.882026</td>\n",
       "      <td>10.400157</td>\n",
       "      <td>5.401539</td>\n",
       "      <td>320.168039</td>\n",
       "      <td>0.205743</td>\n",
       "      <td>13.735116</td>\n",
       "      <td>315.471541</td>\n",
       "    </tr>\n",
       "    <tr>\n",
       "      <th>1</th>\n",
       "      <td>5.475044</td>\n",
       "      <td>9.848643</td>\n",
       "      <td>4.869216</td>\n",
       "      <td>303.695387</td>\n",
       "      <td>0.195527</td>\n",
       "      <td>10.288087</td>\n",
       "      <td>339.179167</td>\n",
       "    </tr>\n",
       "    <tr>\n",
       "      <th>2</th>\n",
       "      <td>5.380519</td>\n",
       "      <td>10.121675</td>\n",
       "      <td>5.138381</td>\n",
       "      <td>303.003069</td>\n",
       "      <td>0.206807</td>\n",
       "      <td>12.988158</td>\n",
       "      <td>322.999707</td>\n",
       "    </tr>\n",
       "    <tr>\n",
       "      <th>3</th>\n",
       "      <td>5.156534</td>\n",
       "      <td>9.145904</td>\n",
       "      <td>3.663929</td>\n",
       "      <td>305.882567</td>\n",
       "      <td>0.146076</td>\n",
       "      <td>11.728872</td>\n",
       "      <td>317.763891</td>\n",
       "    </tr>\n",
       "    <tr>\n",
       "      <th>4</th>\n",
       "      <td>6.134877</td>\n",
       "      <td>8.545634</td>\n",
       "      <td>4.942513</td>\n",
       "      <td>298.315345</td>\n",
       "      <td>0.202050</td>\n",
       "      <td>13.065558</td>\n",
       "      <td>339.326248</td>\n",
       "    </tr>\n",
       "  </tbody>\n",
       "</table>\n",
       "</div>"
      ],
      "text/plain": [
       "        Fao        Fbo         P          To       Cto          m          Ta\n",
       "0  5.882026  10.400157  5.401539  320.168039  0.205743  13.735116  315.471541\n",
       "1  5.475044   9.848643  4.869216  303.695387  0.195527  10.288087  339.179167\n",
       "2  5.380519  10.121675  5.138381  303.003069  0.206807  12.988158  322.999707\n",
       "3  5.156534   9.145904  3.663929  305.882567  0.146076  11.728872  317.763891\n",
       "4  6.134877   8.545634  4.942513  298.315345  0.202050  13.065558  339.326248"
      ]
     },
     "execution_count": 42,
     "metadata": {},
     "output_type": "execute_result"
    }
   ],
   "source": [
    "df_u = df[input_value_cols].copy()\n",
    "df_u.head()"
   ]
  },
  {
   "cell_type": "markdown",
   "metadata": {},
   "source": [
    "The KMeans clustering algorithm is used, and the number of clusters is set to 2, the number of operating modes:"
   ]
  },
  {
   "cell_type": "code",
   "execution_count": 43,
   "metadata": {},
   "outputs": [
    {
     "data": {
      "text/plain": [
       "KMeans(algorithm='auto', copy_x=True, init='k-means++', max_iter=300,\n",
       "       n_clusters=2, n_init=10, n_jobs=None, precompute_distances='auto',\n",
       "       random_state=0, tol=0.0001, verbose=0)"
      ]
     },
     "execution_count": 43,
     "metadata": {},
     "output_type": "execute_result"
    }
   ],
   "source": [
    "from sklearn.cluster import KMeans\n",
    "\n",
    "kmeans = KMeans(n_clusters=2, random_state=0)\n",
    "kmeans.fit(df_u)"
   ]
  },
  {
   "cell_type": "markdown",
   "metadata": {},
   "source": [
    "The KMeans algorithm clusters the data and then assigns a numbered label for each sample in the data. These labels are added to the dataset with a \"Mode\" column (the first cluster is given label 0, so labels are increased by 1 to correspond to the naming of modes used previously)."
   ]
  },
  {
   "cell_type": "code",
   "execution_count": 44,
   "metadata": {},
   "outputs": [
    {
     "data": {
      "text/html": [
       "<div>\n",
       "<style scoped>\n",
       "    .dataframe tbody tr th:only-of-type {\n",
       "        vertical-align: middle;\n",
       "    }\n",
       "\n",
       "    .dataframe tbody tr th {\n",
       "        vertical-align: top;\n",
       "    }\n",
       "\n",
       "    .dataframe thead th {\n",
       "        text-align: right;\n",
       "    }\n",
       "</style>\n",
       "<table border=\"1\" class=\"dataframe\">\n",
       "  <thead>\n",
       "    <tr style=\"text-align: right;\">\n",
       "      <th></th>\n",
       "      <th>Fao</th>\n",
       "      <th>Fbo</th>\n",
       "      <th>P</th>\n",
       "      <th>To</th>\n",
       "      <th>Cto</th>\n",
       "      <th>m</th>\n",
       "      <th>Ta</th>\n",
       "      <th>Mode</th>\n",
       "    </tr>\n",
       "  </thead>\n",
       "  <tbody>\n",
       "    <tr>\n",
       "      <th>0</th>\n",
       "      <td>5.882026</td>\n",
       "      <td>10.400157</td>\n",
       "      <td>5.401539</td>\n",
       "      <td>320.168039</td>\n",
       "      <td>0.205743</td>\n",
       "      <td>13.735116</td>\n",
       "      <td>315.471541</td>\n",
       "      <td>1</td>\n",
       "    </tr>\n",
       "    <tr>\n",
       "      <th>1</th>\n",
       "      <td>5.475044</td>\n",
       "      <td>9.848643</td>\n",
       "      <td>4.869216</td>\n",
       "      <td>303.695387</td>\n",
       "      <td>0.195527</td>\n",
       "      <td>10.288087</td>\n",
       "      <td>339.179167</td>\n",
       "      <td>1</td>\n",
       "    </tr>\n",
       "    <tr>\n",
       "      <th>2</th>\n",
       "      <td>5.380519</td>\n",
       "      <td>10.121675</td>\n",
       "      <td>5.138381</td>\n",
       "      <td>303.003069</td>\n",
       "      <td>0.206807</td>\n",
       "      <td>12.988158</td>\n",
       "      <td>322.999707</td>\n",
       "      <td>1</td>\n",
       "    </tr>\n",
       "    <tr>\n",
       "      <th>3</th>\n",
       "      <td>5.156534</td>\n",
       "      <td>9.145904</td>\n",
       "      <td>3.663929</td>\n",
       "      <td>305.882567</td>\n",
       "      <td>0.146076</td>\n",
       "      <td>11.728872</td>\n",
       "      <td>317.763891</td>\n",
       "      <td>1</td>\n",
       "    </tr>\n",
       "    <tr>\n",
       "      <th>4</th>\n",
       "      <td>6.134877</td>\n",
       "      <td>8.545634</td>\n",
       "      <td>4.942513</td>\n",
       "      <td>298.315345</td>\n",
       "      <td>0.202050</td>\n",
       "      <td>13.065558</td>\n",
       "      <td>339.326248</td>\n",
       "      <td>1</td>\n",
       "    </tr>\n",
       "    <tr>\n",
       "      <th>...</th>\n",
       "      <td>...</td>\n",
       "      <td>...</td>\n",
       "      <td>...</td>\n",
       "      <td>...</td>\n",
       "      <td>...</td>\n",
       "      <td>...</td>\n",
       "      <td>...</td>\n",
       "      <td>...</td>\n",
       "    </tr>\n",
       "    <tr>\n",
       "      <th>145</th>\n",
       "      <td>3.231797</td>\n",
       "      <td>9.399200</td>\n",
       "      <td>5.208936</td>\n",
       "      <td>496.097133</td>\n",
       "      <td>0.128047</td>\n",
       "      <td>5.482254</td>\n",
       "      <td>320.017667</td>\n",
       "      <td>2</td>\n",
       "    </tr>\n",
       "    <tr>\n",
       "      <th>146</th>\n",
       "      <td>4.726941</td>\n",
       "      <td>7.399037</td>\n",
       "      <td>6.789021</td>\n",
       "      <td>368.468475</td>\n",
       "      <td>0.224695</td>\n",
       "      <td>8.786821</td>\n",
       "      <td>335.710830</td>\n",
       "      <td>1</td>\n",
       "    </tr>\n",
       "    <tr>\n",
       "      <th>147</th>\n",
       "      <td>4.034652</td>\n",
       "      <td>6.909794</td>\n",
       "      <td>9.497904</td>\n",
       "      <td>410.929012</td>\n",
       "      <td>0.281869</td>\n",
       "      <td>9.134308</td>\n",
       "      <td>312.375492</td>\n",
       "      <td>2</td>\n",
       "    </tr>\n",
       "    <tr>\n",
       "      <th>148</th>\n",
       "      <td>4.451147</td>\n",
       "      <td>4.231343</td>\n",
       "      <td>8.847399</td>\n",
       "      <td>343.374050</td>\n",
       "      <td>0.314220</td>\n",
       "      <td>9.515748</td>\n",
       "      <td>323.897607</td>\n",
       "      <td>1</td>\n",
       "    </tr>\n",
       "    <tr>\n",
       "      <th>149</th>\n",
       "      <td>3.199466</td>\n",
       "      <td>6.853535</td>\n",
       "      <td>9.085714</td>\n",
       "      <td>359.637472</td>\n",
       "      <td>0.308092</td>\n",
       "      <td>5.754674</td>\n",
       "      <td>321.981471</td>\n",
       "      <td>1</td>\n",
       "    </tr>\n",
       "  </tbody>\n",
       "</table>\n",
       "<p>1500 rows × 8 columns</p>\n",
       "</div>"
      ],
      "text/plain": [
       "          Fao        Fbo         P          To       Cto          m  \\\n",
       "0    5.882026  10.400157  5.401539  320.168039  0.205743  13.735116   \n",
       "1    5.475044   9.848643  4.869216  303.695387  0.195527  10.288087   \n",
       "2    5.380519  10.121675  5.138381  303.003069  0.206807  12.988158   \n",
       "3    5.156534   9.145904  3.663929  305.882567  0.146076  11.728872   \n",
       "4    6.134877   8.545634  4.942513  298.315345  0.202050  13.065558   \n",
       "..        ...        ...       ...         ...       ...        ...   \n",
       "145  3.231797   9.399200  5.208936  496.097133  0.128047   5.482254   \n",
       "146  4.726941   7.399037  6.789021  368.468475  0.224695   8.786821   \n",
       "147  4.034652   6.909794  9.497904  410.929012  0.281869   9.134308   \n",
       "148  4.451147   4.231343  8.847399  343.374050  0.314220   9.515748   \n",
       "149  3.199466   6.853535  9.085714  359.637472  0.308092   5.754674   \n",
       "\n",
       "             Ta  Mode  \n",
       "0    315.471541     1  \n",
       "1    339.179167     1  \n",
       "2    322.999707     1  \n",
       "3    317.763891     1  \n",
       "4    339.326248     1  \n",
       "..          ...   ...  \n",
       "145  320.017667     2  \n",
       "146  335.710830     1  \n",
       "147  312.375492     2  \n",
       "148  323.897607     1  \n",
       "149  321.981471     1  \n",
       "\n",
       "[1500 rows x 8 columns]"
      ]
     },
     "execution_count": 44,
     "metadata": {},
     "output_type": "execute_result"
    }
   ],
   "source": [
    "labels = kmeans.labels_\n",
    "df_u['Mode'] = labels + 1\n",
    "\n",
    "df_u"
   ]
  },
  {
   "cell_type": "markdown",
   "metadata": {},
   "source": [
    "The results show that the KMeans algorithm has allowed for the data to be labelled by operating mode, based on common patterns present within the input process variables. Analysis of the mean values for each mode can give insight to what the yield is in each case, based on knowledge of what influences the yield for the chemical reactions that are occuring. The mean values for each mode are displayed in the following table:"
   ]
  },
  {
   "cell_type": "code",
   "execution_count": 45,
   "metadata": {},
   "outputs": [
    {
     "data": {
      "text/html": [
       "<div>\n",
       "<style scoped>\n",
       "    .dataframe tbody tr th:only-of-type {\n",
       "        vertical-align: middle;\n",
       "    }\n",
       "\n",
       "    .dataframe tbody tr th {\n",
       "        vertical-align: top;\n",
       "    }\n",
       "\n",
       "    .dataframe thead th {\n",
       "        text-align: right;\n",
       "    }\n",
       "</style>\n",
       "<table border=\"1\" class=\"dataframe\">\n",
       "  <thead>\n",
       "    <tr style=\"text-align: right;\">\n",
       "      <th></th>\n",
       "      <th>Fao</th>\n",
       "      <th>Fbo</th>\n",
       "      <th>P</th>\n",
       "      <th>To</th>\n",
       "      <th>Cto</th>\n",
       "      <th>m</th>\n",
       "      <th>Ta</th>\n",
       "    </tr>\n",
       "    <tr>\n",
       "      <th>Mode</th>\n",
       "      <th></th>\n",
       "      <th></th>\n",
       "      <th></th>\n",
       "      <th></th>\n",
       "      <th></th>\n",
       "      <th></th>\n",
       "      <th></th>\n",
       "    </tr>\n",
       "  </thead>\n",
       "  <tbody>\n",
       "    <tr>\n",
       "      <th>1</th>\n",
       "      <td>4.894</td>\n",
       "      <td>9.696</td>\n",
       "      <td>5.087</td>\n",
       "      <td>304.309</td>\n",
       "      <td>0.204</td>\n",
       "      <td>9.848</td>\n",
       "      <td>324.727</td>\n",
       "    </tr>\n",
       "    <tr>\n",
       "      <th>2</th>\n",
       "      <td>3.132</td>\n",
       "      <td>4.439</td>\n",
       "      <td>9.631</td>\n",
       "      <td>494.288</td>\n",
       "      <td>0.237</td>\n",
       "      <td>5.317</td>\n",
       "      <td>324.806</td>\n",
       "    </tr>\n",
       "  </tbody>\n",
       "</table>\n",
       "</div>"
      ],
      "text/plain": [
       "        Fao    Fbo      P       To    Cto      m       Ta\n",
       "Mode                                                     \n",
       "1     4.894  9.696  5.087  304.309  0.204  9.848  324.727\n",
       "2     3.132  4.439  9.631  494.288  0.237  5.317  324.806"
      ]
     },
     "execution_count": 45,
     "metadata": {},
     "output_type": "execute_result"
    }
   ],
   "source": [
    "df_u.groupby('Mode').agg('mean').apply(lambda s: s.apply('{0:.3f}'.format))"
   ]
  },
  {
   "cell_type": "markdown",
   "metadata": {},
   "source": [
    "Mode 1 is a low pressure, low temperature case and so would have relatively high yield compared to Mode 2. Mode 1 is then a high yield mode, and Mode 2 is a low yield mode. A dataset that has been labelled can now be used with a supervised learning algorithm to classify what the current operating mode is, based on the input process variables. Since a general indication (high/low) of yield can be assigned to each operating mode, a supervised learning model can be used to infer what the yield is, in contrast to predicting an actual value as in the previous section.\n",
    "\n",
    "Since yield values are actually available, it is possible to compare the modes that have been assigned to the data with the KMeans algorithm and the true values. The following table shows that the mean values of the input process variables that were generated in Section 2.2 are very similar to those found with KMeans, which is an indication that the algorithm was able to easily detect two clusters within the data."
   ]
  },
  {
   "cell_type": "code",
   "execution_count": 46,
   "metadata": {},
   "outputs": [
    {
     "data": {
      "text/html": [
       "<div>\n",
       "<style scoped>\n",
       "    .dataframe tbody tr th:only-of-type {\n",
       "        vertical-align: middle;\n",
       "    }\n",
       "\n",
       "    .dataframe tbody tr th {\n",
       "        vertical-align: top;\n",
       "    }\n",
       "\n",
       "    .dataframe thead th {\n",
       "        text-align: right;\n",
       "    }\n",
       "</style>\n",
       "<table border=\"1\" class=\"dataframe\">\n",
       "  <thead>\n",
       "    <tr style=\"text-align: right;\">\n",
       "      <th></th>\n",
       "      <th>Fao</th>\n",
       "      <th>Fbo</th>\n",
       "      <th>P</th>\n",
       "      <th>To</th>\n",
       "      <th>Cto</th>\n",
       "      <th>m</th>\n",
       "      <th>Ta</th>\n",
       "    </tr>\n",
       "    <tr>\n",
       "      <th>Mode</th>\n",
       "      <th></th>\n",
       "      <th></th>\n",
       "      <th></th>\n",
       "      <th></th>\n",
       "      <th></th>\n",
       "      <th></th>\n",
       "      <th></th>\n",
       "    </tr>\n",
       "  </thead>\n",
       "  <tbody>\n",
       "    <tr>\n",
       "      <th>1</th>\n",
       "      <td>4.972</td>\n",
       "      <td>9.965</td>\n",
       "      <td>4.893</td>\n",
       "      <td>300.373</td>\n",
       "      <td>0.199</td>\n",
       "      <td>10.055</td>\n",
       "      <td>324.789</td>\n",
       "    </tr>\n",
       "    <tr>\n",
       "      <th>2</th>\n",
       "      <td>2.993</td>\n",
       "      <td>3.984</td>\n",
       "      <td>9.963</td>\n",
       "      <td>500.483</td>\n",
       "      <td>0.243</td>\n",
       "      <td>5.016</td>\n",
       "      <td>324.899</td>\n",
       "    </tr>\n",
       "  </tbody>\n",
       "</table>\n",
       "</div>"
      ],
      "text/plain": [
       "        Fao    Fbo      P       To    Cto       m       Ta\n",
       "Mode                                                      \n",
       "1     4.972  9.965  4.893  300.373  0.199  10.055  324.789\n",
       "2     2.993  3.984  9.963  500.483  0.243   5.016  324.899"
      ]
     },
     "execution_count": 46,
     "metadata": {},
     "output_type": "execute_result"
    }
   ],
   "source": [
    "df_means.iloc[:, :7]"
   ]
  },
  {
   "cell_type": "markdown",
   "metadata": {},
   "source": [
    "The counts of each operating mode found with KMeans are displayed below. Recall that 900 Mode 1, 450 Mode 2, and 150 noise samples were generated in Section 2.2. Based on the count values, it appears that the noise data has been split between each mode."
   ]
  },
  {
   "cell_type": "code",
   "execution_count": 47,
   "metadata": {},
   "outputs": [
    {
     "data": {
      "text/plain": [
       "1    981\n",
       "2    519\n",
       "Name: Mode, dtype: int64"
      ]
     },
     "execution_count": 47,
     "metadata": {},
     "output_type": "execute_result"
    }
   ],
   "source": [
    "df_u['Mode'].value_counts()"
   ]
  },
  {
   "cell_type": "markdown",
   "metadata": {},
   "source": [
    "To visualize how the data has been clustered, it is first reduced to two dimensions with Principal Components Analysis (PCA) in order to plot in two dimensions. A scatterplot is then generated, showing two clusters for each operating mode, with what appears to be the noise values in between. If the dataset had no noise values present, then it is expected that the mean values for each cluster would be closer to the actual values."
   ]
  },
  {
   "cell_type": "code",
   "execution_count": 48,
   "metadata": {},
   "outputs": [
    {
     "data": {
      "image/png": "[encoded data removed]",
      "text/plain": [
       "<Figure size 432x288 with 2 Axes>"
      ]
     },
     "metadata": {
      "needs_background": "light"
     },
     "output_type": "display_data"
    }
   ],
   "source": [
    "from sklearn.decomposition import PCA\n",
    "\n",
    "pca = PCA(n_components=2, random_state=0)\n",
    "\n",
    "pca.fit(df_u)\n",
    "df_u_pca = pca.transform(df_u)\n",
    "\n",
    "plt.figure()\n",
    "plt.scatter(df_u_pca[:, 0], df_u_pca[:, 1], c=labels+1, cmap='bwr')\n",
    "plt.xlabel('Component 1')\n",
    "plt.ylabel('Component 2')\n",
    "plt.title('Visualization of KMeans Clusters after dimensionality reduction by PCA')\n",
    "plt.colorbar();"
   ]
  },
  {
   "cell_type": "markdown",
   "metadata": {},
   "source": [
    "## 10. Conclusions\n",
    "\n",
    "A machine learning model has been developed to model the relationship between the input process conditions of a chemical reactor and the yield of the desired product. The machine learning model was trained on data generated from an analytical model of an example reactor, as real operating data was not available. \n",
    "\n",
    "The advantage of using a machine learning model to predict the yield over taking samples of the reactor products and calculating the yield directly is that it only requires enough sampling to establish a dataset suitable for a model to be trained on, and then the model can be put into use making real time predictions for the product yield, with no additional sampling or other equipment required.\n",
    "\n",
    "A Random Forest machine learning model was developed, and it has been shown how the model can be used as part of a low yield \"warning system\" that can provide an alert when the reactor yield drops below a target value and then provide information on which process conditions are causing the decrease in yield, in an effort to help those involved with operating the reactor maintain maximum yield of the desired product. It was also shown how incorporating a threshold into the warning system to mitigate the error of the machine learning model results in improved performance of the warning system.\n",
    "\n",
    "If no yield data is available, then it can be inferred by using unsupervised learning to assign labels to the data. The labels can then be qualitatively identified as high or low yield modes of operation based on knowledge of how the input process variables influence the yield of the chemical reactions. With a labelled dataset, it is then possible to develop a supervised learning classification model to make qualitative predictions for the yield, in contrast to the quantitative predictions that are possible if yield data is available."
   ]
  },
  {
   "cell_type": "markdown",
   "metadata": {},
   "source": [
    "## 11. Recommendations\n",
    "\n",
    "In order to adapt the concepts presented in this project to a real world application, it is recommended to explore historical operational data related to the reactor of interest. If there is data available for the input process conditions to the reactor that has a strong relationship with the reactor yield, then a machine learning model could be developed. If no historical data for yield is available, then it would need to be collected. The value for yield does not necessarily need to be explicitly known, instead historical information for flowrates can be used to calculate the yield, like what has been performed in this project.\n",
    "\n",
    "It is important to note that a machine learning model that predicts the yield has to be as accurate as taking samples of the reactor products, otherwise there is no advantage to be gained. Using a machine learning model to predict the yield within a \"warning system\" is likely most useful for reaction processes that experience larger changes in the input process conditions, rather than ones that are essentially always at steady state.\n",
    "\n",
    "Unsupervised learning is a useful technique for inferring the reactor performance when yield data is not available, and in a real world application it would also be useful to attempt prior to supervised learning to help identify what operating modes are occuring."
   ]
  },
  {
   "cell_type": "markdown",
   "metadata": {},
   "source": [
    "## 12. References\n",
    "\n",
    "[1] H. Scott Fogler, *Essentials of Chemical Reaction Engineering*, Prentice Hall, 2011."
   ]
  }
 ],
 "metadata": {
  "kernelspec": {
   "display_name": "Python 3",
   "language": "python",
   "name": "python3"
  },
  "language_info": {
   "codemirror_mode": {
    "name": "ipython",
    "version": 3
   },
   "file_extension": ".py",
   "mimetype": "text/x-python",
   "name": "python",
   "nbconvert_exporter": "python",
   "pygments_lexer": "ipython3",
   "version": "3.7.6"
  }
 },
 "nbformat": 4,
 "nbformat_minor": 4
}
